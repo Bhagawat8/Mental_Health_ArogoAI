{
 "cells": [
  {
   "cell_type": "code",
   "execution_count": 7,
   "id": "48c357f8-cf01-4454-90bc-48c439fda9c0",
   "metadata": {
    "id": "48c357f8-cf01-4454-90bc-48c439fda9c0"
   },
   "outputs": [],
   "source": [
    "import pandas as pd\n",
    "import numpy as np"
   ]
  },
  {
   "cell_type": "code",
   "execution_count": 8,
   "id": "de919a88-3cf7-466a-9679-0ff8d16b2df7",
   "metadata": {
    "id": "de919a88-3cf7-466a-9679-0ff8d16b2df7"
   },
   "outputs": [],
   "source": [
    "import warnings\n",
    "warnings.simplefilter(\"ignore\")"
   ]
  },
  {
   "cell_type": "code",
   "execution_count": 9,
   "id": "114b033c-2298-49d1-b901-9ce5f36c4d30",
   "metadata": {
    "id": "114b033c-2298-49d1-b901-9ce5f36c4d30"
   },
   "outputs": [],
   "source": [
    "df = pd.read_csv(\"train_imp.csv\")"
   ]
  },
  {
   "cell_type": "code",
   "execution_count": 10,
   "id": "16116f7d-c4c8-4b3d-844a-c8e94b4053e3",
   "metadata": {
    "colab": {
     "base_uri": "https://localhost:8080/",
     "height": 333
    },
    "id": "16116f7d-c4c8-4b3d-844a-c8e94b4053e3",
    "outputId": "52bfc958-ea95-4cfc-e13c-d47c1a0ebd78"
   },
   "outputs": [
    {
     "data": {
      "text/html": [
       "<div>\n",
       "<style scoped>\n",
       "    .dataframe tbody tr th:only-of-type {\n",
       "        vertical-align: middle;\n",
       "    }\n",
       "\n",
       "    .dataframe tbody tr th {\n",
       "        vertical-align: top;\n",
       "    }\n",
       "\n",
       "    .dataframe thead th {\n",
       "        text-align: right;\n",
       "    }\n",
       "</style>\n",
       "<table border=\"1\" class=\"dataframe\">\n",
       "  <thead>\n",
       "    <tr style=\"text-align: right;\">\n",
       "      <th></th>\n",
       "      <th>id</th>\n",
       "      <th>Name</th>\n",
       "      <th>Gender</th>\n",
       "      <th>Age</th>\n",
       "      <th>City</th>\n",
       "      <th>Working Professional or Student</th>\n",
       "      <th>Profession</th>\n",
       "      <th>Academic Pressure</th>\n",
       "      <th>Work Pressure</th>\n",
       "      <th>CGPA</th>\n",
       "      <th>Study Satisfaction</th>\n",
       "      <th>Job Satisfaction</th>\n",
       "      <th>Sleep Duration</th>\n",
       "      <th>Dietary Habits</th>\n",
       "      <th>Degree</th>\n",
       "      <th>Have you ever had suicidal thoughts ?</th>\n",
       "      <th>Work/Study Hours</th>\n",
       "      <th>Financial Stress</th>\n",
       "      <th>Family History of Mental Illness</th>\n",
       "      <th>Depression</th>\n",
       "    </tr>\n",
       "  </thead>\n",
       "  <tbody>\n",
       "    <tr>\n",
       "      <th>43253</th>\n",
       "      <td>43253</td>\n",
       "      <td>Palak</td>\n",
       "      <td>Female</td>\n",
       "      <td>59.0</td>\n",
       "      <td>Varanasi</td>\n",
       "      <td>Working Professional</td>\n",
       "      <td>Teacher</td>\n",
       "      <td>NaN</td>\n",
       "      <td>2.0</td>\n",
       "      <td>NaN</td>\n",
       "      <td>NaN</td>\n",
       "      <td>5.0</td>\n",
       "      <td>5-6 hours</td>\n",
       "      <td>Healthy</td>\n",
       "      <td>BSc</td>\n",
       "      <td>Yes</td>\n",
       "      <td>10.0</td>\n",
       "      <td>5.0</td>\n",
       "      <td>Yes</td>\n",
       "      <td>0</td>\n",
       "    </tr>\n",
       "    <tr>\n",
       "      <th>27458</th>\n",
       "      <td>27458</td>\n",
       "      <td>Pratham</td>\n",
       "      <td>Male</td>\n",
       "      <td>28.0</td>\n",
       "      <td>Patna</td>\n",
       "      <td>Working Professional</td>\n",
       "      <td>Customer Support</td>\n",
       "      <td>NaN</td>\n",
       "      <td>2.0</td>\n",
       "      <td>NaN</td>\n",
       "      <td>NaN</td>\n",
       "      <td>5.0</td>\n",
       "      <td>Less than 5 hours</td>\n",
       "      <td>Healthy</td>\n",
       "      <td>BA</td>\n",
       "      <td>No</td>\n",
       "      <td>1.0</td>\n",
       "      <td>2.0</td>\n",
       "      <td>Yes</td>\n",
       "      <td>0</td>\n",
       "    </tr>\n",
       "    <tr>\n",
       "      <th>13351</th>\n",
       "      <td>13351</td>\n",
       "      <td>Zara</td>\n",
       "      <td>Female</td>\n",
       "      <td>52.0</td>\n",
       "      <td>Agra</td>\n",
       "      <td>Working Professional</td>\n",
       "      <td>Finanancial Analyst</td>\n",
       "      <td>NaN</td>\n",
       "      <td>5.0</td>\n",
       "      <td>NaN</td>\n",
       "      <td>NaN</td>\n",
       "      <td>3.0</td>\n",
       "      <td>Less than 5 hours</td>\n",
       "      <td>Unhealthy</td>\n",
       "      <td>M.Tech</td>\n",
       "      <td>No</td>\n",
       "      <td>5.0</td>\n",
       "      <td>2.0</td>\n",
       "      <td>No</td>\n",
       "      <td>0</td>\n",
       "    </tr>\n",
       "    <tr>\n",
       "      <th>88861</th>\n",
       "      <td>88861</td>\n",
       "      <td>Nikita</td>\n",
       "      <td>Female</td>\n",
       "      <td>39.0</td>\n",
       "      <td>Varanasi</td>\n",
       "      <td>Working Professional</td>\n",
       "      <td>Teacher</td>\n",
       "      <td>NaN</td>\n",
       "      <td>4.0</td>\n",
       "      <td>NaN</td>\n",
       "      <td>NaN</td>\n",
       "      <td>4.0</td>\n",
       "      <td>More than 8 hours</td>\n",
       "      <td>Moderate</td>\n",
       "      <td>MCA</td>\n",
       "      <td>Yes</td>\n",
       "      <td>6.0</td>\n",
       "      <td>1.0</td>\n",
       "      <td>No</td>\n",
       "      <td>0</td>\n",
       "    </tr>\n",
       "  </tbody>\n",
       "</table>\n",
       "</div>"
      ],
      "text/plain": [
       "          id     Name  Gender   Age      City Working Professional or Student  \\\n",
       "43253  43253    Palak  Female  59.0  Varanasi            Working Professional   \n",
       "27458  27458  Pratham    Male  28.0     Patna            Working Professional   \n",
       "13351  13351     Zara  Female  52.0      Agra            Working Professional   \n",
       "88861  88861   Nikita  Female  39.0  Varanasi            Working Professional   \n",
       "\n",
       "                Profession  Academic Pressure  Work Pressure  CGPA  \\\n",
       "43253              Teacher                NaN            2.0   NaN   \n",
       "27458     Customer Support                NaN            2.0   NaN   \n",
       "13351  Finanancial Analyst                NaN            5.0   NaN   \n",
       "88861              Teacher                NaN            4.0   NaN   \n",
       "\n",
       "       Study Satisfaction  Job Satisfaction     Sleep Duration Dietary Habits  \\\n",
       "43253                 NaN               5.0          5-6 hours        Healthy   \n",
       "27458                 NaN               5.0  Less than 5 hours        Healthy   \n",
       "13351                 NaN               3.0  Less than 5 hours      Unhealthy   \n",
       "88861                 NaN               4.0  More than 8 hours       Moderate   \n",
       "\n",
       "       Degree Have you ever had suicidal thoughts ?  Work/Study Hours  \\\n",
       "43253     BSc                                   Yes              10.0   \n",
       "27458      BA                                    No               1.0   \n",
       "13351  M.Tech                                    No               5.0   \n",
       "88861     MCA                                   Yes               6.0   \n",
       "\n",
       "       Financial Stress Family History of Mental Illness  Depression  \n",
       "43253               5.0                              Yes           0  \n",
       "27458               2.0                              Yes           0  \n",
       "13351               2.0                               No           0  \n",
       "88861               1.0                               No           0  "
      ]
     },
     "execution_count": 10,
     "metadata": {},
     "output_type": "execute_result"
    }
   ],
   "source": [
    "df.sample(4)"
   ]
  },
  {
   "cell_type": "code",
   "execution_count": 11,
   "id": "CeW8Wbc-vpYY",
   "metadata": {
    "id": "CeW8Wbc-vpYY"
   },
   "outputs": [],
   "source": [
    "df = df.drop(columns = ['id' , 'Name'])"
   ]
  },
  {
   "cell_type": "code",
   "execution_count": 12,
   "id": "06067dd3-9fc8-4a58-a11b-ff2c7094c90a",
   "metadata": {
    "colab": {
     "base_uri": "https://localhost:8080/"
    },
    "id": "06067dd3-9fc8-4a58-a11b-ff2c7094c90a",
    "outputId": "2a25bda6-6e56-4d02-9063-c66a0567b510"
   },
   "outputs": [
    {
     "name": "stdout",
     "output_type": "stream",
     "text": [
      "<class 'pandas.core.frame.DataFrame'>\n",
      "RangeIndex: 140700 entries, 0 to 140699\n",
      "Data columns (total 18 columns):\n",
      " #   Column                                 Non-Null Count   Dtype  \n",
      "---  ------                                 --------------   -----  \n",
      " 0   Gender                                 140700 non-null  object \n",
      " 1   Age                                    140700 non-null  float64\n",
      " 2   City                                   140700 non-null  object \n",
      " 3   Working Professional or Student        140700 non-null  object \n",
      " 4   Profession                             104070 non-null  object \n",
      " 5   Academic Pressure                      27897 non-null   float64\n",
      " 6   Work Pressure                          112782 non-null  float64\n",
      " 7   CGPA                                   27898 non-null   float64\n",
      " 8   Study Satisfaction                     27897 non-null   float64\n",
      " 9   Job Satisfaction                       112790 non-null  float64\n",
      " 10  Sleep Duration                         140700 non-null  object \n",
      " 11  Dietary Habits                         140696 non-null  object \n",
      " 12  Degree                                 140698 non-null  object \n",
      " 13  Have you ever had suicidal thoughts ?  140700 non-null  object \n",
      " 14  Work/Study Hours                       140700 non-null  float64\n",
      " 15  Financial Stress                       140696 non-null  float64\n",
      " 16  Family History of Mental Illness       140700 non-null  object \n",
      " 17  Depression                             140700 non-null  int64  \n",
      "dtypes: float64(8), int64(1), object(9)\n",
      "memory usage: 19.3+ MB\n"
     ]
    }
   ],
   "source": [
    "df.info()"
   ]
  },
  {
   "cell_type": "code",
   "execution_count": 13,
   "id": "ee5168a1-27e8-4a45-ac14-9b3641d8f141",
   "metadata": {
    "colab": {
     "base_uri": "https://localhost:8080/",
     "height": 721
    },
    "id": "ee5168a1-27e8-4a45-ac14-9b3641d8f141",
    "outputId": "3434daae-200f-4e18-cfee-db4224c7b470"
   },
   "outputs": [
    {
     "data": {
      "text/html": [
       "<div>\n",
       "<style scoped>\n",
       "    .dataframe tbody tr th:only-of-type {\n",
       "        vertical-align: middle;\n",
       "    }\n",
       "\n",
       "    .dataframe tbody tr th {\n",
       "        vertical-align: top;\n",
       "    }\n",
       "\n",
       "    .dataframe thead th {\n",
       "        text-align: right;\n",
       "    }\n",
       "</style>\n",
       "<table border=\"1\" class=\"dataframe\">\n",
       "  <thead>\n",
       "    <tr style=\"text-align: right;\">\n",
       "      <th></th>\n",
       "      <th>Gender</th>\n",
       "      <th>Age</th>\n",
       "      <th>City</th>\n",
       "      <th>Working Professional or Student</th>\n",
       "      <th>Profession</th>\n",
       "      <th>Academic Pressure</th>\n",
       "      <th>Work Pressure</th>\n",
       "      <th>CGPA</th>\n",
       "      <th>Study Satisfaction</th>\n",
       "      <th>Job Satisfaction</th>\n",
       "      <th>Sleep Duration</th>\n",
       "      <th>Dietary Habits</th>\n",
       "      <th>Degree</th>\n",
       "      <th>Have you ever had suicidal thoughts ?</th>\n",
       "      <th>Work/Study Hours</th>\n",
       "      <th>Financial Stress</th>\n",
       "      <th>Family History of Mental Illness</th>\n",
       "      <th>Depression</th>\n",
       "    </tr>\n",
       "  </thead>\n",
       "  <tbody>\n",
       "    <tr>\n",
       "      <th>0</th>\n",
       "      <td>Female</td>\n",
       "      <td>49.0</td>\n",
       "      <td>Ludhiana</td>\n",
       "      <td>Working Professional</td>\n",
       "      <td>Chef</td>\n",
       "      <td>NaN</td>\n",
       "      <td>5.0</td>\n",
       "      <td>NaN</td>\n",
       "      <td>NaN</td>\n",
       "      <td>2.0</td>\n",
       "      <td>More than 8 hours</td>\n",
       "      <td>Healthy</td>\n",
       "      <td>BHM</td>\n",
       "      <td>No</td>\n",
       "      <td>1.0</td>\n",
       "      <td>2.0</td>\n",
       "      <td>No</td>\n",
       "      <td>0</td>\n",
       "    </tr>\n",
       "    <tr>\n",
       "      <th>1</th>\n",
       "      <td>Male</td>\n",
       "      <td>26.0</td>\n",
       "      <td>Varanasi</td>\n",
       "      <td>Working Professional</td>\n",
       "      <td>Teacher</td>\n",
       "      <td>NaN</td>\n",
       "      <td>4.0</td>\n",
       "      <td>NaN</td>\n",
       "      <td>NaN</td>\n",
       "      <td>3.0</td>\n",
       "      <td>Less than 5 hours</td>\n",
       "      <td>Unhealthy</td>\n",
       "      <td>LLB</td>\n",
       "      <td>Yes</td>\n",
       "      <td>7.0</td>\n",
       "      <td>3.0</td>\n",
       "      <td>No</td>\n",
       "      <td>1</td>\n",
       "    </tr>\n",
       "    <tr>\n",
       "      <th>3</th>\n",
       "      <td>Male</td>\n",
       "      <td>22.0</td>\n",
       "      <td>Mumbai</td>\n",
       "      <td>Working Professional</td>\n",
       "      <td>Teacher</td>\n",
       "      <td>NaN</td>\n",
       "      <td>5.0</td>\n",
       "      <td>NaN</td>\n",
       "      <td>NaN</td>\n",
       "      <td>1.0</td>\n",
       "      <td>Less than 5 hours</td>\n",
       "      <td>Moderate</td>\n",
       "      <td>BBA</td>\n",
       "      <td>Yes</td>\n",
       "      <td>10.0</td>\n",
       "      <td>1.0</td>\n",
       "      <td>Yes</td>\n",
       "      <td>1</td>\n",
       "    </tr>\n",
       "    <tr>\n",
       "      <th>4</th>\n",
       "      <td>Female</td>\n",
       "      <td>30.0</td>\n",
       "      <td>Kanpur</td>\n",
       "      <td>Working Professional</td>\n",
       "      <td>Business Analyst</td>\n",
       "      <td>NaN</td>\n",
       "      <td>1.0</td>\n",
       "      <td>NaN</td>\n",
       "      <td>NaN</td>\n",
       "      <td>1.0</td>\n",
       "      <td>5-6 hours</td>\n",
       "      <td>Unhealthy</td>\n",
       "      <td>BBA</td>\n",
       "      <td>Yes</td>\n",
       "      <td>9.0</td>\n",
       "      <td>4.0</td>\n",
       "      <td>Yes</td>\n",
       "      <td>0</td>\n",
       "    </tr>\n",
       "    <tr>\n",
       "      <th>5</th>\n",
       "      <td>Female</td>\n",
       "      <td>59.0</td>\n",
       "      <td>Ahmedabad</td>\n",
       "      <td>Working Professional</td>\n",
       "      <td>Finanancial Analyst</td>\n",
       "      <td>NaN</td>\n",
       "      <td>2.0</td>\n",
       "      <td>NaN</td>\n",
       "      <td>NaN</td>\n",
       "      <td>5.0</td>\n",
       "      <td>5-6 hours</td>\n",
       "      <td>Healthy</td>\n",
       "      <td>MCA</td>\n",
       "      <td>No</td>\n",
       "      <td>7.0</td>\n",
       "      <td>5.0</td>\n",
       "      <td>No</td>\n",
       "      <td>0</td>\n",
       "    </tr>\n",
       "    <tr>\n",
       "      <th>...</th>\n",
       "      <td>...</td>\n",
       "      <td>...</td>\n",
       "      <td>...</td>\n",
       "      <td>...</td>\n",
       "      <td>...</td>\n",
       "      <td>...</td>\n",
       "      <td>...</td>\n",
       "      <td>...</td>\n",
       "      <td>...</td>\n",
       "      <td>...</td>\n",
       "      <td>...</td>\n",
       "      <td>...</td>\n",
       "      <td>...</td>\n",
       "      <td>...</td>\n",
       "      <td>...</td>\n",
       "      <td>...</td>\n",
       "      <td>...</td>\n",
       "      <td>...</td>\n",
       "    </tr>\n",
       "    <tr>\n",
       "      <th>140694</th>\n",
       "      <td>Female</td>\n",
       "      <td>45.0</td>\n",
       "      <td>Ahmedabad</td>\n",
       "      <td>Working Professional</td>\n",
       "      <td>Teacher</td>\n",
       "      <td>NaN</td>\n",
       "      <td>2.0</td>\n",
       "      <td>NaN</td>\n",
       "      <td>NaN</td>\n",
       "      <td>5.0</td>\n",
       "      <td>Less than 5 hours</td>\n",
       "      <td>Moderate</td>\n",
       "      <td>B.Ed</td>\n",
       "      <td>Yes</td>\n",
       "      <td>1.0</td>\n",
       "      <td>5.0</td>\n",
       "      <td>No</td>\n",
       "      <td>0</td>\n",
       "    </tr>\n",
       "    <tr>\n",
       "      <th>140695</th>\n",
       "      <td>Female</td>\n",
       "      <td>18.0</td>\n",
       "      <td>Ahmedabad</td>\n",
       "      <td>Working Professional</td>\n",
       "      <td>NaN</td>\n",
       "      <td>NaN</td>\n",
       "      <td>5.0</td>\n",
       "      <td>NaN</td>\n",
       "      <td>NaN</td>\n",
       "      <td>4.0</td>\n",
       "      <td>5-6 hours</td>\n",
       "      <td>Unhealthy</td>\n",
       "      <td>Class 12</td>\n",
       "      <td>No</td>\n",
       "      <td>2.0</td>\n",
       "      <td>4.0</td>\n",
       "      <td>Yes</td>\n",
       "      <td>1</td>\n",
       "    </tr>\n",
       "    <tr>\n",
       "      <th>140696</th>\n",
       "      <td>Female</td>\n",
       "      <td>41.0</td>\n",
       "      <td>Hyderabad</td>\n",
       "      <td>Working Professional</td>\n",
       "      <td>Content Writer</td>\n",
       "      <td>NaN</td>\n",
       "      <td>5.0</td>\n",
       "      <td>NaN</td>\n",
       "      <td>NaN</td>\n",
       "      <td>4.0</td>\n",
       "      <td>7-8 hours</td>\n",
       "      <td>Moderate</td>\n",
       "      <td>B.Tech</td>\n",
       "      <td>Yes</td>\n",
       "      <td>6.0</td>\n",
       "      <td>5.0</td>\n",
       "      <td>Yes</td>\n",
       "      <td>0</td>\n",
       "    </tr>\n",
       "    <tr>\n",
       "      <th>140697</th>\n",
       "      <td>Female</td>\n",
       "      <td>24.0</td>\n",
       "      <td>Kolkata</td>\n",
       "      <td>Working Professional</td>\n",
       "      <td>Marketing Manager</td>\n",
       "      <td>NaN</td>\n",
       "      <td>3.0</td>\n",
       "      <td>NaN</td>\n",
       "      <td>NaN</td>\n",
       "      <td>1.0</td>\n",
       "      <td>More than 8 hours</td>\n",
       "      <td>Moderate</td>\n",
       "      <td>B.Com</td>\n",
       "      <td>No</td>\n",
       "      <td>4.0</td>\n",
       "      <td>4.0</td>\n",
       "      <td>No</td>\n",
       "      <td>0</td>\n",
       "    </tr>\n",
       "    <tr>\n",
       "      <th>140698</th>\n",
       "      <td>Female</td>\n",
       "      <td>49.0</td>\n",
       "      <td>Srinagar</td>\n",
       "      <td>Working Professional</td>\n",
       "      <td>Plumber</td>\n",
       "      <td>NaN</td>\n",
       "      <td>5.0</td>\n",
       "      <td>NaN</td>\n",
       "      <td>NaN</td>\n",
       "      <td>2.0</td>\n",
       "      <td>5-6 hours</td>\n",
       "      <td>Moderate</td>\n",
       "      <td>ME</td>\n",
       "      <td>Yes</td>\n",
       "      <td>10.0</td>\n",
       "      <td>1.0</td>\n",
       "      <td>No</td>\n",
       "      <td>0</td>\n",
       "    </tr>\n",
       "  </tbody>\n",
       "</table>\n",
       "<p>112799 rows × 18 columns</p>\n",
       "</div>"
      ],
      "text/plain": [
       "        Gender   Age       City Working Professional or Student  \\\n",
       "0       Female  49.0   Ludhiana            Working Professional   \n",
       "1         Male  26.0   Varanasi            Working Professional   \n",
       "3         Male  22.0     Mumbai            Working Professional   \n",
       "4       Female  30.0     Kanpur            Working Professional   \n",
       "5       Female  59.0  Ahmedabad            Working Professional   \n",
       "...        ...   ...        ...                             ...   \n",
       "140694  Female  45.0  Ahmedabad            Working Professional   \n",
       "140695  Female  18.0  Ahmedabad            Working Professional   \n",
       "140696  Female  41.0  Hyderabad            Working Professional   \n",
       "140697  Female  24.0    Kolkata            Working Professional   \n",
       "140698  Female  49.0   Srinagar            Working Professional   \n",
       "\n",
       "                 Profession  Academic Pressure  Work Pressure  CGPA  \\\n",
       "0                      Chef                NaN            5.0   NaN   \n",
       "1                   Teacher                NaN            4.0   NaN   \n",
       "3                   Teacher                NaN            5.0   NaN   \n",
       "4          Business Analyst                NaN            1.0   NaN   \n",
       "5       Finanancial Analyst                NaN            2.0   NaN   \n",
       "...                     ...                ...            ...   ...   \n",
       "140694              Teacher                NaN            2.0   NaN   \n",
       "140695                  NaN                NaN            5.0   NaN   \n",
       "140696       Content Writer                NaN            5.0   NaN   \n",
       "140697    Marketing Manager                NaN            3.0   NaN   \n",
       "140698              Plumber                NaN            5.0   NaN   \n",
       "\n",
       "        Study Satisfaction  Job Satisfaction     Sleep Duration  \\\n",
       "0                      NaN               2.0  More than 8 hours   \n",
       "1                      NaN               3.0  Less than 5 hours   \n",
       "3                      NaN               1.0  Less than 5 hours   \n",
       "4                      NaN               1.0          5-6 hours   \n",
       "5                      NaN               5.0          5-6 hours   \n",
       "...                    ...               ...                ...   \n",
       "140694                 NaN               5.0  Less than 5 hours   \n",
       "140695                 NaN               4.0          5-6 hours   \n",
       "140696                 NaN               4.0          7-8 hours   \n",
       "140697                 NaN               1.0  More than 8 hours   \n",
       "140698                 NaN               2.0          5-6 hours   \n",
       "\n",
       "       Dietary Habits    Degree Have you ever had suicidal thoughts ?  \\\n",
       "0             Healthy       BHM                                    No   \n",
       "1           Unhealthy       LLB                                   Yes   \n",
       "3            Moderate       BBA                                   Yes   \n",
       "4           Unhealthy       BBA                                   Yes   \n",
       "5             Healthy       MCA                                    No   \n",
       "...               ...       ...                                   ...   \n",
       "140694       Moderate      B.Ed                                   Yes   \n",
       "140695      Unhealthy  Class 12                                    No   \n",
       "140696       Moderate    B.Tech                                   Yes   \n",
       "140697       Moderate     B.Com                                    No   \n",
       "140698       Moderate        ME                                   Yes   \n",
       "\n",
       "        Work/Study Hours  Financial Stress Family History of Mental Illness  \\\n",
       "0                    1.0               2.0                               No   \n",
       "1                    7.0               3.0                               No   \n",
       "3                   10.0               1.0                              Yes   \n",
       "4                    9.0               4.0                              Yes   \n",
       "5                    7.0               5.0                               No   \n",
       "...                  ...               ...                              ...   \n",
       "140694               1.0               5.0                               No   \n",
       "140695               2.0               4.0                              Yes   \n",
       "140696               6.0               5.0                              Yes   \n",
       "140697               4.0               4.0                               No   \n",
       "140698              10.0               1.0                               No   \n",
       "\n",
       "        Depression  \n",
       "0                0  \n",
       "1                1  \n",
       "3                1  \n",
       "4                0  \n",
       "5                0  \n",
       "...            ...  \n",
       "140694           0  \n",
       "140695           1  \n",
       "140696           0  \n",
       "140697           0  \n",
       "140698           0  \n",
       "\n",
       "[112799 rows x 18 columns]"
      ]
     },
     "execution_count": 13,
     "metadata": {},
     "output_type": "execute_result"
    }
   ],
   "source": [
    "df[df['Working Professional or Student'] == 'Working Professional']"
   ]
  },
  {
   "cell_type": "code",
   "execution_count": 14,
   "id": "30d43cd6-0c24-4cea-b181-117834ca9eca",
   "metadata": {
    "colab": {
     "base_uri": "https://localhost:8080/"
    },
    "id": "30d43cd6-0c24-4cea-b181-117834ca9eca",
    "outputId": "d6d79077-b76d-4e31-ace1-f160f2673850"
   },
   "outputs": [
    {
     "data": {
      "text/plain": [
       "Index(['Gender', 'Age', 'City', 'Working Professional or Student',\n",
       "       'Profession', 'Academic Pressure', 'Work Pressure', 'CGPA',\n",
       "       'Study Satisfaction', 'Job Satisfaction', 'Sleep Duration',\n",
       "       'Dietary Habits', 'Degree', 'Have you ever had suicidal thoughts ?',\n",
       "       'Work/Study Hours', 'Financial Stress',\n",
       "       'Family History of Mental Illness', 'Depression'],\n",
       "      dtype='object')"
      ]
     },
     "execution_count": 14,
     "metadata": {},
     "output_type": "execute_result"
    }
   ],
   "source": [
    "df.columns"
   ]
  },
  {
   "cell_type": "code",
   "execution_count": 15,
   "id": "2a57ef10-8bd6-4a52-bdda-df0dc3815554",
   "metadata": {
    "id": "2a57ef10-8bd6-4a52-bdda-df0dc3815554"
   },
   "outputs": [],
   "source": [
    "df.loc[df['Working Professional or Student'] == 'Student', ['Profession', 'Work Pressure', 'Job Satisfaction']] = df.loc[df['Working Professional or Student'] == 'Student', ['Profession', 'Work Pressure', 'Job Satisfaction']].fillna('Not Applicable')\n",
    "df.loc[df['Working Professional or Student'] == 'Working Professional', ['Academic Pressure', 'CGPA', 'Study Satisfaction']] = df.loc[df['Working Professional or Student'] == 'Working Professional', ['Academic Pressure', 'CGPA', 'Study Satisfaction']].fillna('Not Applicable')\n"
   ]
  },
  {
   "cell_type": "code",
   "execution_count": null,
   "id": "cb380fd7-5b93-41f1-bbcb-6df516b5bb67",
   "metadata": {
    "id": "cb380fd7-5b93-41f1-bbcb-6df516b5bb67"
   },
   "outputs": [],
   "source": []
  },
  {
   "cell_type": "code",
   "execution_count": 16,
   "id": "41f72507-5197-484c-b8c0-626206cb215f",
   "metadata": {
    "colab": {
     "base_uri": "https://localhost:8080/"
    },
    "id": "41f72507-5197-484c-b8c0-626206cb215f",
    "outputId": "0a167e3a-bc10-4a53-d091-4a96108e7e39"
   },
   "outputs": [
    {
     "name": "stdout",
     "output_type": "stream",
     "text": [
      "<class 'pandas.core.frame.DataFrame'>\n",
      "RangeIndex: 140700 entries, 0 to 140699\n",
      "Data columns (total 18 columns):\n",
      " #   Column                                 Non-Null Count   Dtype  \n",
      "---  ------                                 --------------   -----  \n",
      " 0   Gender                                 140700 non-null  object \n",
      " 1   Age                                    140700 non-null  float64\n",
      " 2   City                                   140700 non-null  object \n",
      " 3   Working Professional or Student        140700 non-null  object \n",
      " 4   Profession                             131937 non-null  object \n",
      " 5   Academic Pressure                      140691 non-null  object \n",
      " 6   Work Pressure                          140680 non-null  object \n",
      " 7   CGPA                                   140691 non-null  object \n",
      " 8   Study Satisfaction                     140690 non-null  object \n",
      " 9   Job Satisfaction                       140683 non-null  object \n",
      " 10  Sleep Duration                         140700 non-null  object \n",
      " 11  Dietary Habits                         140696 non-null  object \n",
      " 12  Degree                                 140698 non-null  object \n",
      " 13  Have you ever had suicidal thoughts ?  140700 non-null  object \n",
      " 14  Work/Study Hours                       140700 non-null  float64\n",
      " 15  Financial Stress                       140696 non-null  float64\n",
      " 16  Family History of Mental Illness       140700 non-null  object \n",
      " 17  Depression                             140700 non-null  int64  \n",
      "dtypes: float64(3), int64(1), object(14)\n",
      "memory usage: 19.3+ MB\n"
     ]
    }
   ],
   "source": [
    "df.info()"
   ]
  },
  {
   "cell_type": "code",
   "execution_count": 17,
   "id": "efeea1cb-5b29-42b7-a5cf-deab234f0c09",
   "metadata": {
    "colab": {
     "base_uri": "https://localhost:8080/",
     "height": 1000
    },
    "id": "efeea1cb-5b29-42b7-a5cf-deab234f0c09",
    "outputId": "289c8f22-3067-4e12-8f3a-7fef52a1d0c7"
   },
   "outputs": [
    {
     "data": {
      "text/plain": [
       "Degree\n",
       "Class 12    8590\n",
       "B.Arch        13\n",
       "B.Ed          11\n",
       "MD            11\n",
       "BHM           10\n",
       "BCA           10\n",
       "M.Com          8\n",
       "MBA            8\n",
       "MCA            8\n",
       "BE             8\n",
       "MA             7\n",
       "LLB            7\n",
       "BSc            7\n",
       "B.Com          6\n",
       "B.Tech         5\n",
       "B.Pharm        5\n",
       "MBBS           5\n",
       "M.Ed           5\n",
       "M.Pharm        5\n",
       "MSc            5\n",
       "ME             4\n",
       "M.Tech         4\n",
       "BBA            3\n",
       "LLM            3\n",
       "PhD            3\n",
       "BA             2\n",
       "MHM            2\n",
       "LLBA           1\n",
       "5.56           1\n",
       "Degree         1\n",
       "5.88           1\n",
       "Navya          1\n",
       "M              1\n",
       "Name: count, dtype: int64"
      ]
     },
     "execution_count": 17,
     "metadata": {},
     "output_type": "execute_result"
    }
   ],
   "source": [
    "df[df['Profession'].isna() == True]['Degree'].value_counts()"
   ]
  },
  {
   "cell_type": "code",
   "execution_count": 18,
   "id": "8a11eb80-448e-4a2e-bd24-4596deced574",
   "metadata": {
    "colab": {
     "base_uri": "https://localhost:8080/",
     "height": 147
    },
    "id": "8a11eb80-448e-4a2e-bd24-4596deced574",
    "outputId": "1e237d51-9378-4270-9c2e-1d544560c38e"
   },
   "outputs": [
    {
     "data": {
      "text/plain": [
       "Working Professional or Student\n",
       "Working Professional    8763\n",
       "Name: count, dtype: int64"
      ]
     },
     "execution_count": 18,
     "metadata": {},
     "output_type": "execute_result"
    }
   ],
   "source": [
    "df[df['Profession'].isna() == True]['Working Professional or Student'].value_counts()"
   ]
  },
  {
   "cell_type": "code",
   "execution_count": 19,
   "id": "4c44d323-eb7e-4801-9f83-e74080bcf44d",
   "metadata": {
    "colab": {
     "base_uri": "https://localhost:8080/",
     "height": 385
    },
    "id": "4c44d323-eb7e-4801-9f83-e74080bcf44d",
    "outputId": "26ef4799-be0c-451e-8423-8a8a3292a035"
   },
   "outputs": [
    {
     "data": {
      "text/html": [
       "<div>\n",
       "<style scoped>\n",
       "    .dataframe tbody tr th:only-of-type {\n",
       "        vertical-align: middle;\n",
       "    }\n",
       "\n",
       "    .dataframe tbody tr th {\n",
       "        vertical-align: top;\n",
       "    }\n",
       "\n",
       "    .dataframe thead th {\n",
       "        text-align: right;\n",
       "    }\n",
       "</style>\n",
       "<table border=\"1\" class=\"dataframe\">\n",
       "  <thead>\n",
       "    <tr style=\"text-align: right;\">\n",
       "      <th></th>\n",
       "      <th>Gender</th>\n",
       "      <th>Age</th>\n",
       "      <th>City</th>\n",
       "      <th>Working Professional or Student</th>\n",
       "      <th>Profession</th>\n",
       "      <th>Academic Pressure</th>\n",
       "      <th>Work Pressure</th>\n",
       "      <th>CGPA</th>\n",
       "      <th>Study Satisfaction</th>\n",
       "      <th>Job Satisfaction</th>\n",
       "      <th>Sleep Duration</th>\n",
       "      <th>Dietary Habits</th>\n",
       "      <th>Degree</th>\n",
       "      <th>Have you ever had suicidal thoughts ?</th>\n",
       "      <th>Work/Study Hours</th>\n",
       "      <th>Financial Stress</th>\n",
       "      <th>Family History of Mental Illness</th>\n",
       "      <th>Depression</th>\n",
       "    </tr>\n",
       "  </thead>\n",
       "  <tbody>\n",
       "    <tr>\n",
       "      <th>137765</th>\n",
       "      <td>Female</td>\n",
       "      <td>50.0</td>\n",
       "      <td>Nashik</td>\n",
       "      <td>Working Professional</td>\n",
       "      <td>NaN</td>\n",
       "      <td>Not Applicable</td>\n",
       "      <td>5.0</td>\n",
       "      <td>Not Applicable</td>\n",
       "      <td>Not Applicable</td>\n",
       "      <td>1.0</td>\n",
       "      <td>More than 8 hours</td>\n",
       "      <td>Unhealthy</td>\n",
       "      <td>Class 12</td>\n",
       "      <td>No</td>\n",
       "      <td>2.0</td>\n",
       "      <td>2.0</td>\n",
       "      <td>No</td>\n",
       "      <td>0</td>\n",
       "    </tr>\n",
       "    <tr>\n",
       "      <th>77586</th>\n",
       "      <td>Male</td>\n",
       "      <td>18.0</td>\n",
       "      <td>Ludhiana</td>\n",
       "      <td>Working Professional</td>\n",
       "      <td>NaN</td>\n",
       "      <td>Not Applicable</td>\n",
       "      <td>2.0</td>\n",
       "      <td>Not Applicable</td>\n",
       "      <td>Not Applicable</td>\n",
       "      <td>5.0</td>\n",
       "      <td>Less than 5 hours</td>\n",
       "      <td>Healthy</td>\n",
       "      <td>Class 12</td>\n",
       "      <td>Yes</td>\n",
       "      <td>11.0</td>\n",
       "      <td>5.0</td>\n",
       "      <td>Yes</td>\n",
       "      <td>1</td>\n",
       "    </tr>\n",
       "    <tr>\n",
       "      <th>122722</th>\n",
       "      <td>Female</td>\n",
       "      <td>21.0</td>\n",
       "      <td>Ghaziabad</td>\n",
       "      <td>Working Professional</td>\n",
       "      <td>NaN</td>\n",
       "      <td>Not Applicable</td>\n",
       "      <td>4.0</td>\n",
       "      <td>Not Applicable</td>\n",
       "      <td>Not Applicable</td>\n",
       "      <td>2.0</td>\n",
       "      <td>5-6 hours</td>\n",
       "      <td>Healthy</td>\n",
       "      <td>MA</td>\n",
       "      <td>Yes</td>\n",
       "      <td>12.0</td>\n",
       "      <td>3.0</td>\n",
       "      <td>No</td>\n",
       "      <td>1</td>\n",
       "    </tr>\n",
       "    <tr>\n",
       "      <th>83797</th>\n",
       "      <td>Male</td>\n",
       "      <td>40.0</td>\n",
       "      <td>Lucknow</td>\n",
       "      <td>Working Professional</td>\n",
       "      <td>NaN</td>\n",
       "      <td>Not Applicable</td>\n",
       "      <td>5.0</td>\n",
       "      <td>Not Applicable</td>\n",
       "      <td>Not Applicable</td>\n",
       "      <td>1.0</td>\n",
       "      <td>7-8 hours</td>\n",
       "      <td>Unhealthy</td>\n",
       "      <td>Class 12</td>\n",
       "      <td>No</td>\n",
       "      <td>0.0</td>\n",
       "      <td>5.0</td>\n",
       "      <td>No</td>\n",
       "      <td>1</td>\n",
       "    </tr>\n",
       "  </tbody>\n",
       "</table>\n",
       "</div>"
      ],
      "text/plain": [
       "        Gender   Age       City Working Professional or Student Profession  \\\n",
       "137765  Female  50.0     Nashik            Working Professional        NaN   \n",
       "77586     Male  18.0   Ludhiana            Working Professional        NaN   \n",
       "122722  Female  21.0  Ghaziabad            Working Professional        NaN   \n",
       "83797     Male  40.0    Lucknow            Working Professional        NaN   \n",
       "\n",
       "       Academic Pressure Work Pressure            CGPA Study Satisfaction  \\\n",
       "137765    Not Applicable           5.0  Not Applicable     Not Applicable   \n",
       "77586     Not Applicable           2.0  Not Applicable     Not Applicable   \n",
       "122722    Not Applicable           4.0  Not Applicable     Not Applicable   \n",
       "83797     Not Applicable           5.0  Not Applicable     Not Applicable   \n",
       "\n",
       "       Job Satisfaction     Sleep Duration Dietary Habits    Degree  \\\n",
       "137765              1.0  More than 8 hours      Unhealthy  Class 12   \n",
       "77586               5.0  Less than 5 hours        Healthy  Class 12   \n",
       "122722              2.0          5-6 hours        Healthy        MA   \n",
       "83797               1.0          7-8 hours      Unhealthy  Class 12   \n",
       "\n",
       "       Have you ever had suicidal thoughts ?  Work/Study Hours  \\\n",
       "137765                                    No               2.0   \n",
       "77586                                    Yes              11.0   \n",
       "122722                                   Yes              12.0   \n",
       "83797                                     No               0.0   \n",
       "\n",
       "        Financial Stress Family History of Mental Illness  Depression  \n",
       "137765               2.0                               No           0  \n",
       "77586                5.0                              Yes           1  \n",
       "122722               3.0                               No           1  \n",
       "83797                5.0                               No           1  "
      ]
     },
     "execution_count": 19,
     "metadata": {},
     "output_type": "execute_result"
    }
   ],
   "source": [
    "df[df['Profession'].isna() == True].sample(4)"
   ]
  },
  {
   "cell_type": "code",
   "execution_count": 20,
   "id": "77841ae5-0fc9-4e19-ab7b-571a6b1bcb99",
   "metadata": {
    "id": "77841ae5-0fc9-4e19-ab7b-571a6b1bcb99"
   },
   "outputs": [],
   "source": [
    "df['Profession'].fillna('Unknown', inplace=True)\n"
   ]
  },
  {
   "cell_type": "code",
   "execution_count": 21,
   "id": "1be99b8d-4916-4009-8e76-c0c7da8973ba",
   "metadata": {
    "colab": {
     "base_uri": "https://localhost:8080/"
    },
    "id": "1be99b8d-4916-4009-8e76-c0c7da8973ba",
    "outputId": "00acfeba-f584-421a-8d46-25b6a2e637d5"
   },
   "outputs": [
    {
     "name": "stdout",
     "output_type": "stream",
     "text": [
      "<class 'pandas.core.frame.DataFrame'>\n",
      "RangeIndex: 140700 entries, 0 to 140699\n",
      "Data columns (total 18 columns):\n",
      " #   Column                                 Non-Null Count   Dtype  \n",
      "---  ------                                 --------------   -----  \n",
      " 0   Gender                                 140700 non-null  object \n",
      " 1   Age                                    140700 non-null  float64\n",
      " 2   City                                   140700 non-null  object \n",
      " 3   Working Professional or Student        140700 non-null  object \n",
      " 4   Profession                             140700 non-null  object \n",
      " 5   Academic Pressure                      140691 non-null  object \n",
      " 6   Work Pressure                          140680 non-null  object \n",
      " 7   CGPA                                   140691 non-null  object \n",
      " 8   Study Satisfaction                     140690 non-null  object \n",
      " 9   Job Satisfaction                       140683 non-null  object \n",
      " 10  Sleep Duration                         140700 non-null  object \n",
      " 11  Dietary Habits                         140696 non-null  object \n",
      " 12  Degree                                 140698 non-null  object \n",
      " 13  Have you ever had suicidal thoughts ?  140700 non-null  object \n",
      " 14  Work/Study Hours                       140700 non-null  float64\n",
      " 15  Financial Stress                       140696 non-null  float64\n",
      " 16  Family History of Mental Illness       140700 non-null  object \n",
      " 17  Depression                             140700 non-null  int64  \n",
      "dtypes: float64(3), int64(1), object(14)\n",
      "memory usage: 19.3+ MB\n"
     ]
    }
   ],
   "source": [
    "df.info()"
   ]
  },
  {
   "cell_type": "code",
   "execution_count": 22,
   "id": "3eb9f5b4-e4a6-47c1-bf3e-19e5b24fef9e",
   "metadata": {
    "id": "3eb9f5b4-e4a6-47c1-bf3e-19e5b24fef9e"
   },
   "outputs": [],
   "source": [
    "df = df.dropna()"
   ]
  },
  {
   "cell_type": "code",
   "execution_count": 23,
   "id": "ca5f3f9c-0d1c-4137-9b82-f4de6357c67e",
   "metadata": {
    "colab": {
     "base_uri": "https://localhost:8080/"
    },
    "id": "ca5f3f9c-0d1c-4137-9b82-f4de6357c67e",
    "outputId": "459429ca-168a-4472-84ce-a5e5cc01d990"
   },
   "outputs": [
    {
     "name": "stdout",
     "output_type": "stream",
     "text": [
      "<class 'pandas.core.frame.DataFrame'>\n",
      "Index: 140651 entries, 0 to 140699\n",
      "Data columns (total 18 columns):\n",
      " #   Column                                 Non-Null Count   Dtype  \n",
      "---  ------                                 --------------   -----  \n",
      " 0   Gender                                 140651 non-null  object \n",
      " 1   Age                                    140651 non-null  float64\n",
      " 2   City                                   140651 non-null  object \n",
      " 3   Working Professional or Student        140651 non-null  object \n",
      " 4   Profession                             140651 non-null  object \n",
      " 5   Academic Pressure                      140651 non-null  object \n",
      " 6   Work Pressure                          140651 non-null  object \n",
      " 7   CGPA                                   140651 non-null  object \n",
      " 8   Study Satisfaction                     140651 non-null  object \n",
      " 9   Job Satisfaction                       140651 non-null  object \n",
      " 10  Sleep Duration                         140651 non-null  object \n",
      " 11  Dietary Habits                         140651 non-null  object \n",
      " 12  Degree                                 140651 non-null  object \n",
      " 13  Have you ever had suicidal thoughts ?  140651 non-null  object \n",
      " 14  Work/Study Hours                       140651 non-null  float64\n",
      " 15  Financial Stress                       140651 non-null  float64\n",
      " 16  Family History of Mental Illness       140651 non-null  object \n",
      " 17  Depression                             140651 non-null  int64  \n",
      "dtypes: float64(3), int64(1), object(14)\n",
      "memory usage: 20.4+ MB\n"
     ]
    }
   ],
   "source": [
    "df.info()"
   ]
  },
  {
   "cell_type": "code",
   "execution_count": 24,
   "id": "ff58a16c-72f2-45f0-90e5-6cb4a96c7625",
   "metadata": {
    "colab": {
     "base_uri": "https://localhost:8080/",
     "height": 285
    },
    "id": "ff58a16c-72f2-45f0-90e5-6cb4a96c7625",
    "outputId": "1f8cd6fe-09c0-4c48-b254-0ec1f4dc4405"
   },
   "outputs": [
    {
     "data": {
      "text/html": [
       "<div>\n",
       "<style scoped>\n",
       "    .dataframe tbody tr th:only-of-type {\n",
       "        vertical-align: middle;\n",
       "    }\n",
       "\n",
       "    .dataframe tbody tr th {\n",
       "        vertical-align: top;\n",
       "    }\n",
       "\n",
       "    .dataframe thead th {\n",
       "        text-align: right;\n",
       "    }\n",
       "</style>\n",
       "<table border=\"1\" class=\"dataframe\">\n",
       "  <thead>\n",
       "    <tr style=\"text-align: right;\">\n",
       "      <th></th>\n",
       "      <th>Gender</th>\n",
       "      <th>Age</th>\n",
       "      <th>City</th>\n",
       "      <th>Working Professional or Student</th>\n",
       "      <th>Profession</th>\n",
       "      <th>Academic Pressure</th>\n",
       "      <th>Work Pressure</th>\n",
       "      <th>CGPA</th>\n",
       "      <th>Study Satisfaction</th>\n",
       "      <th>Job Satisfaction</th>\n",
       "      <th>Sleep Duration</th>\n",
       "      <th>Dietary Habits</th>\n",
       "      <th>Degree</th>\n",
       "      <th>Have you ever had suicidal thoughts ?</th>\n",
       "      <th>Work/Study Hours</th>\n",
       "      <th>Financial Stress</th>\n",
       "      <th>Family History of Mental Illness</th>\n",
       "      <th>Depression</th>\n",
       "    </tr>\n",
       "  </thead>\n",
       "  <tbody>\n",
       "    <tr>\n",
       "      <th>90007</th>\n",
       "      <td>Male</td>\n",
       "      <td>23.0</td>\n",
       "      <td>Visakhapatnam</td>\n",
       "      <td>Working Professional</td>\n",
       "      <td>Pharmacist</td>\n",
       "      <td>Not Applicable</td>\n",
       "      <td>4.0</td>\n",
       "      <td>Not Applicable</td>\n",
       "      <td>Not Applicable</td>\n",
       "      <td>2.0</td>\n",
       "      <td>5-6 hours</td>\n",
       "      <td>Unhealthy</td>\n",
       "      <td>B.Pharm</td>\n",
       "      <td>No</td>\n",
       "      <td>8.0</td>\n",
       "      <td>5.0</td>\n",
       "      <td>Yes</td>\n",
       "      <td>1</td>\n",
       "    </tr>\n",
       "    <tr>\n",
       "      <th>47978</th>\n",
       "      <td>Male</td>\n",
       "      <td>24.0</td>\n",
       "      <td>Faridabad</td>\n",
       "      <td>Student</td>\n",
       "      <td>Not Applicable</td>\n",
       "      <td>1.0</td>\n",
       "      <td>Not Applicable</td>\n",
       "      <td>7.37</td>\n",
       "      <td>5.0</td>\n",
       "      <td>Not Applicable</td>\n",
       "      <td>Less than 5 hours</td>\n",
       "      <td>Moderate</td>\n",
       "      <td>BHM</td>\n",
       "      <td>Yes</td>\n",
       "      <td>10.0</td>\n",
       "      <td>4.0</td>\n",
       "      <td>Yes</td>\n",
       "      <td>1</td>\n",
       "    </tr>\n",
       "    <tr>\n",
       "      <th>23097</th>\n",
       "      <td>Male</td>\n",
       "      <td>59.0</td>\n",
       "      <td>Indore</td>\n",
       "      <td>Working Professional</td>\n",
       "      <td>Educational Consultant</td>\n",
       "      <td>Not Applicable</td>\n",
       "      <td>3.0</td>\n",
       "      <td>Not Applicable</td>\n",
       "      <td>Not Applicable</td>\n",
       "      <td>1.0</td>\n",
       "      <td>7-8 hours</td>\n",
       "      <td>Moderate</td>\n",
       "      <td>B.Ed</td>\n",
       "      <td>No</td>\n",
       "      <td>1.0</td>\n",
       "      <td>3.0</td>\n",
       "      <td>No</td>\n",
       "      <td>0</td>\n",
       "    </tr>\n",
       "  </tbody>\n",
       "</table>\n",
       "</div>"
      ],
      "text/plain": [
       "      Gender   Age           City Working Professional or Student  \\\n",
       "90007   Male  23.0  Visakhapatnam            Working Professional   \n",
       "47978   Male  24.0      Faridabad                         Student   \n",
       "23097   Male  59.0         Indore            Working Professional   \n",
       "\n",
       "                   Profession Academic Pressure   Work Pressure  \\\n",
       "90007              Pharmacist    Not Applicable             4.0   \n",
       "47978          Not Applicable               1.0  Not Applicable   \n",
       "23097  Educational Consultant    Not Applicable             3.0   \n",
       "\n",
       "                 CGPA Study Satisfaction Job Satisfaction     Sleep Duration  \\\n",
       "90007  Not Applicable     Not Applicable              2.0          5-6 hours   \n",
       "47978            7.37                5.0   Not Applicable  Less than 5 hours   \n",
       "23097  Not Applicable     Not Applicable              1.0          7-8 hours   \n",
       "\n",
       "      Dietary Habits   Degree Have you ever had suicidal thoughts ?  \\\n",
       "90007      Unhealthy  B.Pharm                                    No   \n",
       "47978       Moderate      BHM                                   Yes   \n",
       "23097       Moderate     B.Ed                                    No   \n",
       "\n",
       "       Work/Study Hours  Financial Stress Family History of Mental Illness  \\\n",
       "90007               8.0               5.0                              Yes   \n",
       "47978              10.0               4.0                              Yes   \n",
       "23097               1.0               3.0                               No   \n",
       "\n",
       "       Depression  \n",
       "90007           1  \n",
       "47978           1  \n",
       "23097           0  "
      ]
     },
     "execution_count": 24,
     "metadata": {},
     "output_type": "execute_result"
    }
   ],
   "source": [
    "df.sample(3)"
   ]
  },
  {
   "cell_type": "code",
   "execution_count": 25,
   "id": "c5e6fe67-a918-4cc5-ab40-4f594105fd0a",
   "metadata": {
    "id": "c5e6fe67-a918-4cc5-ab40-4f594105fd0a"
   },
   "outputs": [],
   "source": [
    "import matplotlib.pyplot as plt\n",
    "import seaborn as sns\n",
    "from sklearn.preprocessing import StandardScaler\n",
    "from sklearn.feature_selection import SelectKBest, chi2"
   ]
  },
  {
   "cell_type": "code",
   "execution_count": 26,
   "id": "66f873ad-a0c2-462b-90a9-d35267ce6f06",
   "metadata": {
    "colab": {
     "base_uri": "https://localhost:8080/"
    },
    "id": "66f873ad-a0c2-462b-90a9-d35267ce6f06",
    "outputId": "e2080dce-13bf-43f4-db1a-ca49beecd603"
   },
   "outputs": [
    {
     "data": {
      "text/plain": [
       "5"
      ]
     },
     "execution_count": 26,
     "metadata": {},
     "output_type": "execute_result"
    }
   ],
   "source": [
    "df.duplicated().sum()"
   ]
  },
  {
   "cell_type": "code",
   "execution_count": 27,
   "id": "db27cf3c-9016-4468-8c4d-bb4cbe434471",
   "metadata": {
    "id": "db27cf3c-9016-4468-8c4d-bb4cbe434471"
   },
   "outputs": [],
   "source": [
    "#"
   ]
  },
  {
   "cell_type": "code",
   "execution_count": 28,
   "id": "5899d1ec-dd67-4f16-8c1a-ba0465cc0821",
   "metadata": {
    "id": "5899d1ec-dd67-4f16-8c1a-ba0465cc0821"
   },
   "outputs": [],
   "source": [
    "cols = [ 'Gender','City','Working Professional or Student','Profession','Sleep Duration','Dietary Habits','Degree','Have you ever had suicidal thoughts ?', 'Family History of Mental Illness']\n",
    "for col in cols:\n",
    "    df[col] = df[col].str.lower().str.strip()\n"
   ]
  },
  {
   "cell_type": "code",
   "execution_count": 29,
   "id": "02ed4b3c-3fdb-4e74-8599-cd521be08d8a",
   "metadata": {
    "colab": {
     "base_uri": "https://localhost:8080/",
     "height": 178
    },
    "id": "02ed4b3c-3fdb-4e74-8599-cd521be08d8a",
    "outputId": "95757bd0-bb8b-4e3b-a051-616314ebec7b"
   },
   "outputs": [
    {
     "data": {
      "text/plain": [
       "Depression\n",
       "0    115107\n",
       "1     25544\n",
       "Name: count, dtype: int64"
      ]
     },
     "execution_count": 29,
     "metadata": {},
     "output_type": "execute_result"
    }
   ],
   "source": [
    "df['Depression'].value_counts()"
   ]
  },
  {
   "cell_type": "code",
   "execution_count": 30,
   "id": "fef9b832-6007-497c-80a7-0870e13de381",
   "metadata": {
    "colab": {
     "base_uri": "https://localhost:8080/",
     "height": 285
    },
    "id": "fef9b832-6007-497c-80a7-0870e13de381",
    "outputId": "8cf2baac-e775-4226-f4ef-abcaefbf92ae"
   },
   "outputs": [
    {
     "data": {
      "text/html": [
       "<div>\n",
       "<style scoped>\n",
       "    .dataframe tbody tr th:only-of-type {\n",
       "        vertical-align: middle;\n",
       "    }\n",
       "\n",
       "    .dataframe tbody tr th {\n",
       "        vertical-align: top;\n",
       "    }\n",
       "\n",
       "    .dataframe thead th {\n",
       "        text-align: right;\n",
       "    }\n",
       "</style>\n",
       "<table border=\"1\" class=\"dataframe\">\n",
       "  <thead>\n",
       "    <tr style=\"text-align: right;\">\n",
       "      <th></th>\n",
       "      <th>Gender</th>\n",
       "      <th>Age</th>\n",
       "      <th>City</th>\n",
       "      <th>Working Professional or Student</th>\n",
       "      <th>Profession</th>\n",
       "      <th>Academic Pressure</th>\n",
       "      <th>Work Pressure</th>\n",
       "      <th>CGPA</th>\n",
       "      <th>Study Satisfaction</th>\n",
       "      <th>Job Satisfaction</th>\n",
       "      <th>Sleep Duration</th>\n",
       "      <th>Dietary Habits</th>\n",
       "      <th>Degree</th>\n",
       "      <th>Have you ever had suicidal thoughts ?</th>\n",
       "      <th>Work/Study Hours</th>\n",
       "      <th>Financial Stress</th>\n",
       "      <th>Family History of Mental Illness</th>\n",
       "      <th>Depression</th>\n",
       "    </tr>\n",
       "  </thead>\n",
       "  <tbody>\n",
       "    <tr>\n",
       "      <th>46734</th>\n",
       "      <td>female</td>\n",
       "      <td>20.0</td>\n",
       "      <td>indore</td>\n",
       "      <td>student</td>\n",
       "      <td>not applicable</td>\n",
       "      <td>4.0</td>\n",
       "      <td>Not Applicable</td>\n",
       "      <td>8.04</td>\n",
       "      <td>1.0</td>\n",
       "      <td>Not Applicable</td>\n",
       "      <td>less than 5 hours</td>\n",
       "      <td>unhealthy</td>\n",
       "      <td>class 12</td>\n",
       "      <td>yes</td>\n",
       "      <td>12.0</td>\n",
       "      <td>5.0</td>\n",
       "      <td>yes</td>\n",
       "      <td>1</td>\n",
       "    </tr>\n",
       "    <tr>\n",
       "      <th>77737</th>\n",
       "      <td>female</td>\n",
       "      <td>36.0</td>\n",
       "      <td>rajkot</td>\n",
       "      <td>working professional</td>\n",
       "      <td>data scientist</td>\n",
       "      <td>Not Applicable</td>\n",
       "      <td>3.0</td>\n",
       "      <td>Not Applicable</td>\n",
       "      <td>Not Applicable</td>\n",
       "      <td>1.0</td>\n",
       "      <td>5-6 hours</td>\n",
       "      <td>moderate</td>\n",
       "      <td>be</td>\n",
       "      <td>yes</td>\n",
       "      <td>8.0</td>\n",
       "      <td>5.0</td>\n",
       "      <td>no</td>\n",
       "      <td>1</td>\n",
       "    </tr>\n",
       "    <tr>\n",
       "      <th>77665</th>\n",
       "      <td>female</td>\n",
       "      <td>53.0</td>\n",
       "      <td>chennai</td>\n",
       "      <td>working professional</td>\n",
       "      <td>customer support</td>\n",
       "      <td>Not Applicable</td>\n",
       "      <td>1.0</td>\n",
       "      <td>Not Applicable</td>\n",
       "      <td>Not Applicable</td>\n",
       "      <td>1.0</td>\n",
       "      <td>5-6 hours</td>\n",
       "      <td>moderate</td>\n",
       "      <td>ba</td>\n",
       "      <td>no</td>\n",
       "      <td>4.0</td>\n",
       "      <td>4.0</td>\n",
       "      <td>no</td>\n",
       "      <td>0</td>\n",
       "    </tr>\n",
       "  </tbody>\n",
       "</table>\n",
       "</div>"
      ],
      "text/plain": [
       "       Gender   Age     City Working Professional or Student  \\\n",
       "46734  female  20.0   indore                         student   \n",
       "77737  female  36.0   rajkot            working professional   \n",
       "77665  female  53.0  chennai            working professional   \n",
       "\n",
       "             Profession Academic Pressure   Work Pressure            CGPA  \\\n",
       "46734    not applicable               4.0  Not Applicable            8.04   \n",
       "77737    data scientist    Not Applicable             3.0  Not Applicable   \n",
       "77665  customer support    Not Applicable             1.0  Not Applicable   \n",
       "\n",
       "      Study Satisfaction Job Satisfaction     Sleep Duration Dietary Habits  \\\n",
       "46734                1.0   Not Applicable  less than 5 hours      unhealthy   \n",
       "77737     Not Applicable              1.0          5-6 hours       moderate   \n",
       "77665     Not Applicable              1.0          5-6 hours       moderate   \n",
       "\n",
       "         Degree Have you ever had suicidal thoughts ?  Work/Study Hours  \\\n",
       "46734  class 12                                   yes              12.0   \n",
       "77737        be                                   yes               8.0   \n",
       "77665        ba                                    no               4.0   \n",
       "\n",
       "       Financial Stress Family History of Mental Illness  Depression  \n",
       "46734               5.0                              yes           1  \n",
       "77737               5.0                               no           1  \n",
       "77665               4.0                               no           0  "
      ]
     },
     "execution_count": 30,
     "metadata": {},
     "output_type": "execute_result"
    }
   ],
   "source": [
    "df.sample(3)"
   ]
  },
  {
   "cell_type": "code",
   "execution_count": 31,
   "id": "aac0e915-edee-4914-8c57-808aaaaa1150",
   "metadata": {
    "colab": {
     "base_uri": "https://localhost:8080/",
     "height": 489
    },
    "id": "aac0e915-edee-4914-8c57-808aaaaa1150",
    "outputId": "042f8763-114a-4eca-f2fd-5819d9c46480"
   },
   "outputs": [
    {
     "data": {
      "text/plain": [
       "CGPA\n",
       "Not Applicable    112769\n",
       "8.04                 821\n",
       "9.96                 425\n",
       "5.74                 409\n",
       "8.95                 371\n",
       "                   ...  \n",
       "6.64                   1\n",
       "7.0625                 1\n",
       "6.98                   1\n",
       "6.44                   1\n",
       "6.09                   1\n",
       "Name: count, Length: 332, dtype: int64"
      ]
     },
     "execution_count": 31,
     "metadata": {},
     "output_type": "execute_result"
    }
   ],
   "source": [
    "df['CGPA'].value_counts()"
   ]
  },
  {
   "cell_type": "code",
   "execution_count": 32,
   "id": "ffe07bfc-8a80-4ffe-abed-eb9648bd102e",
   "metadata": {
    "id": "ffe07bfc-8a80-4ffe-abed-eb9648bd102e"
   },
   "outputs": [],
   "source": [
    "df['CGPA'].replace( 'Not Applicable' , 99999 , inplace=True)"
   ]
  },
  {
   "cell_type": "code",
   "execution_count": 33,
   "id": "5a74bffe-5da6-43df-a3c3-999e9dc20164",
   "metadata": {
    "colab": {
     "base_uri": "https://localhost:8080/",
     "height": 303
    },
    "id": "5a74bffe-5da6-43df-a3c3-999e9dc20164",
    "outputId": "a4b8aebd-c350-4d30-dff9-710ee9f1f563"
   },
   "outputs": [
    {
     "data": {
      "text/plain": [
       "Job Satisfaction\n",
       "Not Applicable    27880\n",
       "2.0               24778\n",
       "5.0               22810\n",
       "1.0               22320\n",
       "3.0               21949\n",
       "4.0               20914\n",
       "Name: count, dtype: int64"
      ]
     },
     "execution_count": 33,
     "metadata": {},
     "output_type": "execute_result"
    }
   ],
   "source": [
    "df['Job Satisfaction'].value_counts()"
   ]
  },
  {
   "cell_type": "code",
   "execution_count": 34,
   "id": "cb8eb56e-fd58-40f1-8cf2-976dfa6003f2",
   "metadata": {
    "id": "cb8eb56e-fd58-40f1-8cf2-976dfa6003f2"
   },
   "outputs": [],
   "source": [
    "df['Job Satisfaction'].replace( 'Not Applicable' , 99999 , inplace=True)"
   ]
  },
  {
   "cell_type": "code",
   "execution_count": 35,
   "id": "065aed69-7e5f-4e88-bd0f-bff36dbaed43",
   "metadata": {
    "colab": {
     "base_uri": "https://localhost:8080/",
     "height": 303
    },
    "id": "065aed69-7e5f-4e88-bd0f-bff36dbaed43",
    "outputId": "263a409d-5352-4239-f7da-5b2dfeb7b027"
   },
   "outputs": [
    {
     "data": {
      "text/plain": [
       "Study Satisfaction\n",
       "Not Applicable    112769\n",
       "4.0                 6358\n",
       "2.0                 5837\n",
       "3.0                 5819\n",
       "1.0                 5448\n",
       "5.0                 4420\n",
       "Name: count, dtype: int64"
      ]
     },
     "execution_count": 35,
     "metadata": {},
     "output_type": "execute_result"
    }
   ],
   "source": [
    "df['Study Satisfaction'].value_counts()"
   ]
  },
  {
   "cell_type": "code",
   "execution_count": 36,
   "id": "d153686f-f552-4b40-a8aa-c3a9a9f7e18c",
   "metadata": {
    "id": "d153686f-f552-4b40-a8aa-c3a9a9f7e18c"
   },
   "outputs": [],
   "source": [
    "df['Study Satisfaction'].replace( 'Not Applicable' ,99999 , inplace=True)"
   ]
  },
  {
   "cell_type": "code",
   "execution_count": 37,
   "id": "c9b2bc3e-8263-4e09-b997-cd1aaed570b4",
   "metadata": {
    "colab": {
     "base_uri": "https://localhost:8080/",
     "height": 303
    },
    "id": "c9b2bc3e-8263-4e09-b997-cd1aaed570b4",
    "outputId": "80a893fc-bd70-4cb8-9b2c-eaa26b463860"
   },
   "outputs": [
    {
     "data": {
      "text/plain": [
       "Work Pressure\n",
       "Not Applicable    27882\n",
       "2.0               24372\n",
       "4.0               22510\n",
       "5.0               22431\n",
       "3.0               21896\n",
       "1.0               21560\n",
       "Name: count, dtype: int64"
      ]
     },
     "execution_count": 37,
     "metadata": {},
     "output_type": "execute_result"
    }
   ],
   "source": [
    "df['Work Pressure'].value_counts()"
   ]
  },
  {
   "cell_type": "code",
   "execution_count": 38,
   "id": "6419ae7c-f840-4a97-801c-9e311a57e449",
   "metadata": {
    "id": "6419ae7c-f840-4a97-801c-9e311a57e449"
   },
   "outputs": [],
   "source": [
    "df['Work Pressure'].replace( 'Not Applicable' , 99999 , inplace=True)"
   ]
  },
  {
   "cell_type": "code",
   "execution_count": 39,
   "id": "ce357644-73ab-48e8-8f58-c22fbfefed33",
   "metadata": {
    "colab": {
     "base_uri": "https://localhost:8080/",
     "height": 303
    },
    "id": "ce357644-73ab-48e8-8f58-c22fbfefed33",
    "outputId": "b44b3545-89d2-4c45-9221-62d8d6ceb967"
   },
   "outputs": [
    {
     "data": {
      "text/plain": [
       "Academic Pressure\n",
       "Not Applicable    112769\n",
       "3.0                 7460\n",
       "5.0                 6293\n",
       "4.0                 5154\n",
       "1.0                 4799\n",
       "2.0                 4176\n",
       "Name: count, dtype: int64"
      ]
     },
     "execution_count": 39,
     "metadata": {},
     "output_type": "execute_result"
    }
   ],
   "source": [
    "df['Academic Pressure'].value_counts()"
   ]
  },
  {
   "cell_type": "code",
   "execution_count": 40,
   "id": "e05704ad-e287-44fd-bac6-f7f024bc84a3",
   "metadata": {
    "id": "e05704ad-e287-44fd-bac6-f7f024bc84a3"
   },
   "outputs": [],
   "source": [
    "df['Academic Pressure'].replace( 'Not Applicable' , 99999 , inplace=True)"
   ]
  },
  {
   "cell_type": "code",
   "execution_count": 41,
   "id": "90ac3d28-f984-489b-9ad5-7902e0f1c2d9",
   "metadata": {
    "colab": {
     "base_uri": "https://localhost:8080/",
     "height": 489
    },
    "id": "90ac3d28-f984-489b-9ad5-7902e0f1c2d9",
    "outputId": "072f742d-3a0e-449b-ea01-da872e92a6fe"
   },
   "outputs": [
    {
     "data": {
      "text/plain": [
       "Profession\n",
       "not applicable       27848\n",
       "teacher              24906\n",
       "unknown               8737\n",
       "content writer        7813\n",
       "architect             4370\n",
       "                     ...  \n",
       "dev                      1\n",
       "be                       1\n",
       "b.com                    1\n",
       "family consultant        1\n",
       "yuvraj                   1\n",
       "Name: count, Length: 66, dtype: int64"
      ]
     },
     "execution_count": 41,
     "metadata": {},
     "output_type": "execute_result"
    }
   ],
   "source": [
    "df['Profession'].value_counts()"
   ]
  },
  {
   "cell_type": "code",
   "execution_count": 42,
   "id": "49712dc9-72bd-429a-8483-43d110e11f7c",
   "metadata": {
    "colab": {
     "base_uri": "https://localhost:8080/"
    },
    "id": "49712dc9-72bd-429a-8483-43d110e11f7c",
    "outputId": "e4017738-e52f-40b0-e141-f56974deb061"
   },
   "outputs": [
    {
     "name": "stdout",
     "output_type": "stream",
     "text": [
      "<class 'pandas.core.frame.DataFrame'>\n",
      "Index: 140651 entries, 0 to 140699\n",
      "Data columns (total 18 columns):\n",
      " #   Column                                 Non-Null Count   Dtype  \n",
      "---  ------                                 --------------   -----  \n",
      " 0   Gender                                 140651 non-null  object \n",
      " 1   Age                                    140651 non-null  float64\n",
      " 2   City                                   140651 non-null  object \n",
      " 3   Working Professional or Student        140651 non-null  object \n",
      " 4   Profession                             140651 non-null  object \n",
      " 5   Academic Pressure                      140651 non-null  float64\n",
      " 6   Work Pressure                          140651 non-null  float64\n",
      " 7   CGPA                                   140651 non-null  float64\n",
      " 8   Study Satisfaction                     140651 non-null  float64\n",
      " 9   Job Satisfaction                       140651 non-null  float64\n",
      " 10  Sleep Duration                         140651 non-null  object \n",
      " 11  Dietary Habits                         140651 non-null  object \n",
      " 12  Degree                                 140651 non-null  object \n",
      " 13  Have you ever had suicidal thoughts ?  140651 non-null  object \n",
      " 14  Work/Study Hours                       140651 non-null  float64\n",
      " 15  Financial Stress                       140651 non-null  float64\n",
      " 16  Family History of Mental Illness       140651 non-null  object \n",
      " 17  Depression                             140651 non-null  int64  \n",
      "dtypes: float64(8), int64(1), object(9)\n",
      "memory usage: 20.4+ MB\n"
     ]
    }
   ],
   "source": [
    "df.info()"
   ]
  },
  {
   "cell_type": "code",
   "execution_count": 43,
   "id": "1eb6b00e-5d3e-4b53-9996-787c9cec562a",
   "metadata": {
    "colab": {
     "base_uri": "https://localhost:8080/",
     "height": 178
    },
    "id": "1eb6b00e-5d3e-4b53-9996-787c9cec562a",
    "outputId": "82295c6e-1e3a-4f13-9479-5491b6942220"
   },
   "outputs": [
    {
     "data": {
      "text/plain": [
       "Family History of Mental Illness\n",
       "no     70729\n",
       "yes    69922\n",
       "Name: count, dtype: int64"
      ]
     },
     "execution_count": 43,
     "metadata": {},
     "output_type": "execute_result"
    }
   ],
   "source": [
    "df['Family History of Mental Illness'].value_counts()"
   ]
  },
  {
   "cell_type": "code",
   "execution_count": 44,
   "id": "091a788a-6e11-494a-8966-3850aef4bcfe",
   "metadata": {
    "colab": {
     "base_uri": "https://localhost:8080/",
     "height": 272
    },
    "id": "091a788a-6e11-494a-8966-3850aef4bcfe",
    "outputId": "ce8747df-f16a-4c85-8d40-abdd1c637401"
   },
   "outputs": [
    {
     "data": {
      "text/plain": [
       "Financial Stress\n",
       "2.0    31447\n",
       "5.0    28267\n",
       "4.0    27758\n",
       "1.0    27202\n",
       "3.0    25977\n",
       "Name: count, dtype: int64"
      ]
     },
     "execution_count": 44,
     "metadata": {},
     "output_type": "execute_result"
    }
   ],
   "source": [
    "df['Financial Stress'].value_counts()"
   ]
  },
  {
   "cell_type": "code",
   "execution_count": 45,
   "id": "6f05a367-4c6f-49df-866c-09d871f292ae",
   "metadata": {
    "colab": {
     "base_uri": "https://localhost:8080/",
     "height": 836
    },
    "id": "6f05a367-4c6f-49df-866c-09d871f292ae",
    "outputId": "e91cdd13-5879-4b1f-8c41-0ffe8526c73f"
   },
   "outputs": [
    {
     "data": {
      "text/plain": [
       "Dietary Habits\n",
       "moderate             49684\n",
       "unhealthy            46214\n",
       "healthy              44730\n",
       "yes                      2\n",
       "no                       2\n",
       "more healthy             2\n",
       "no healthy               1\n",
       "class 12                 1\n",
       "indoor                   1\n",
       "male                     1\n",
       "vegas                    1\n",
       "m.tech                   1\n",
       "less healthy             1\n",
       "1.0                      1\n",
       "electrician              1\n",
       "hormonal                 1\n",
       "mihir                    1\n",
       "less than healthy        1\n",
       "3                        1\n",
       "gender                   1\n",
       "bsc                      1\n",
       "pratham                  1\n",
       "2                        1\n",
       "Name: count, dtype: int64"
      ]
     },
     "execution_count": 45,
     "metadata": {},
     "output_type": "execute_result"
    }
   ],
   "source": [
    "df['Dietary Habits'].value_counts()"
   ]
  },
  {
   "cell_type": "code",
   "execution_count": 46,
   "id": "45619b99-e08f-4458-be74-fe5b43635f1e",
   "metadata": {
    "id": "45619b99-e08f-4458-be74-fe5b43635f1e"
   },
   "outputs": [],
   "source": [
    "import re\n",
    "\n",
    "dietary_mapping = {\n",
    "    'healthy': 'healthy',\n",
    "    'more healthy': 'healthy',\n",
    "\n",
    "    'moderate': 'moderate',\n",
    "\n",
    "    'unhealthy': 'unhealthy',\n",
    "    'less healthy': 'unhealthy',\n",
    "    'no healthy': 'unhealthy',\n",
    "    'less than healthy': 'unhealthy'\n",
    "}\n",
    "\n",
    "def clean_dietary_habits(value):\n",
    "    if isinstance(value, str):\n",
    "        value = value.lower().strip()\n",
    "        if value in dietary_mapping:\n",
    "            return dietary_mapping[value]\n",
    "    return 'unknown'\n",
    "    \n",
    "df['Dietary Habits'] = df['Dietary Habits'].apply(clean_dietary_habits)\n"
   ]
  },
  {
   "cell_type": "code",
   "execution_count": 47,
   "id": "d636893f-c4ca-46cd-8a77-1a11db692caa",
   "metadata": {
    "colab": {
     "base_uri": "https://localhost:8080/",
     "height": 489
    },
    "id": "d636893f-c4ca-46cd-8a77-1a11db692caa",
    "outputId": "0017d16c-25c7-48e2-adba-1a478dc58640"
   },
   "outputs": [
    {
     "data": {
      "text/plain": [
       "Degree\n",
       "class 12    14701\n",
       "b.ed        11688\n",
       "b.arch       8741\n",
       "b.com        8112\n",
       "b.pharm      5855\n",
       "            ...  \n",
       "vivaan          1\n",
       "mtech           1\n",
       "29              1\n",
       "llcom           1\n",
       "advait          1\n",
       "Name: count, Length: 115, dtype: int64"
      ]
     },
     "execution_count": 47,
     "metadata": {},
     "output_type": "execute_result"
    }
   ],
   "source": [
    "df['Degree'].value_counts()\n"
   ]
  },
  {
   "cell_type": "code",
   "execution_count": 48,
   "id": "3641a287-e006-461f-bdf4-32b96bfcb370",
   "metadata": {
    "id": "3641a287-e006-461f-bdf4-32b96bfcb370"
   },
   "outputs": [],
   "source": [
    "degree_counts = df['Degree'].value_counts()\n",
    "valid_degrees = degree_counts[degree_counts >= 5].index\n",
    "df = df[df['Degree'].isin(valid_degrees)]\n"
   ]
  },
  {
   "cell_type": "code",
   "execution_count": 49,
   "id": "0e63c705-d715-479c-8361-54ae69d92e8e",
   "metadata": {
    "colab": {
     "base_uri": "https://localhost:8080/",
     "height": 523
    },
    "id": "0e63c705-d715-479c-8361-54ae69d92e8e",
    "outputId": "8c83bc01-f2a0-4c7b-c8ea-504133cc68fa"
   },
   "outputs": [
    {
     "data": {
      "text/plain": [
       "Work/Study Hours\n",
       "10.0    14183\n",
       "11.0    12816\n",
       "9.0     12701\n",
       "0.0     12052\n",
       "12.0    11396\n",
       "2.0     10579\n",
       "6.0     10423\n",
       "7.0      9861\n",
       "1.0      9790\n",
       "3.0      9461\n",
       "5.0      9326\n",
       "4.0      9056\n",
       "8.0      8898\n",
       "Name: count, dtype: int64"
      ]
     },
     "execution_count": 49,
     "metadata": {},
     "output_type": "execute_result"
    }
   ],
   "source": [
    "df['Work/Study Hours'].value_counts()"
   ]
  },
  {
   "cell_type": "code",
   "execution_count": 50,
   "id": "ca764bb7-0ecb-4092-bfd6-5513f8fda8d3",
   "metadata": {
    "colab": {
     "base_uri": "https://localhost:8080/",
     "height": 1000
    },
    "collapsed": true,
    "id": "ca764bb7-0ecb-4092-bfd6-5513f8fda8d3",
    "jupyter": {
     "outputs_hidden": true
    },
    "outputId": "249c7ee1-2375-4a25-9d07-5dd17091b76b"
   },
   "outputs": [
    {
     "data": {
      "text/plain": [
       "Sleep Duration\n",
       "less than 5 hours    38742\n",
       "7-8 hours            36931\n",
       "more than 8 hours    32690\n",
       "5-6 hours            32100\n",
       "3-4 hours               12\n",
       "6-7 hours                8\n",
       "4-5 hours                7\n",
       "2-3 hours                5\n",
       "4-6 hours                5\n",
       "6-8 hours                4\n",
       "1-6 hours                4\n",
       "no                       4\n",
       "9-11 hours               2\n",
       "10-11 hours              2\n",
       "sleep_duration           2\n",
       "unhealthy                2\n",
       "45                       2\n",
       "8-9 hours                2\n",
       "10-6 hours               1\n",
       "9-5                      1\n",
       "45-48 hours              1\n",
       "3-6 hours                1\n",
       "work_study_hours         1\n",
       "49 hours                 1\n",
       "than 5 hours             1\n",
       "pune                     1\n",
       "9-6 hours                1\n",
       "8 hours                  1\n",
       "35-36 hours              1\n",
       "indore                   1\n",
       "1-3 hours                1\n",
       "55-66 hours              1\n",
       "moderate                 1\n",
       "40-45 hours              1\n",
       "1-2 hours                1\n",
       "9-5 hours                1\n",
       "Name: count, dtype: int64"
      ]
     },
     "execution_count": 50,
     "metadata": {},
     "output_type": "execute_result"
    }
   ],
   "source": [
    "df['Sleep Duration'].value_counts()"
   ]
  },
  {
   "cell_type": "code",
   "execution_count": 51,
   "id": "d4c4b53c-815d-465b-95eb-b6b40ef742a6",
   "metadata": {
    "id": "d4c4b53c-815d-465b-95eb-b6b40ef742a6"
   },
   "outputs": [],
   "source": [
    "import re\n",
    "\n",
    "mapping = {\n",
    "    'less than 5 hours': 'less than 5 hours',\n",
    "    '3-4 hours': 'less than 5 hours',\n",
    "    '2-3 hours': 'less than 5 hours',\n",
    "    '1-3 hours': 'less than 5 hours',\n",
    "    '1-2 hours': 'less than 5 hours',\n",
    "\n",
    "    '5-6 hours': '5-6 hours',\n",
    "    '4-5 hours': '5-6 hours',\n",
    "    '4-6 hours': '5-6 hours',\n",
    "\n",
    "    '6-8 hours': '6-8 hours',\n",
    "    '6-7 hours': '6-8 hours',\n",
    "    '7-8 hours': '6-8 hours',\n",
    "\n",
    "    'more than 8 hours': 'more than 8 hours',\n",
    "    '8-9 hours': 'more than 8 hours',\n",
    "    '9-11 hours': 'more than 8 hours',\n",
    "    '10-11 hours': 'more than 8 hours'\n",
    "}\n",
    "\n",
    "def clean_sleep_duration(value):\n",
    "    if isinstance(value, str):\n",
    "        value = value.lower().strip()\n",
    "        if value in mapping:\n",
    "            return mapping[value]\n",
    "        elif re.match(r'^\\d+(-\\d+)?\\s*hours$', value):\n",
    "            return '6-8 hours'\n",
    "    return 'unknown'\n",
    "\n",
    "df['Sleep Duration'] = df['Sleep Duration'].apply(clean_sleep_duration)\n"
   ]
  },
  {
   "cell_type": "code",
   "execution_count": 52,
   "id": "4d969fd1-5e73-4066-99de-c53fb527ff2d",
   "metadata": {
    "colab": {
     "base_uri": "https://localhost:8080/"
    },
    "id": "4d969fd1-5e73-4066-99de-c53fb527ff2d",
    "outputId": "be8fd57f-05fc-47aa-c9b2-82dc5797da64"
   },
   "outputs": [
    {
     "data": {
      "text/plain": [
       "array(['more than 8 hours', 'less than 5 hours', '5-6 hours', '6-8 hours',\n",
       "       'unknown'], dtype=object)"
      ]
     },
     "execution_count": 52,
     "metadata": {},
     "output_type": "execute_result"
    }
   ],
   "source": [
    "df['Sleep Duration'].unique()"
   ]
  },
  {
   "cell_type": "code",
   "execution_count": 53,
   "id": "edc9de21-3dbd-4421-8ffe-1c71c508dc61",
   "metadata": {},
   "outputs": [
    {
     "data": {
      "text/plain": [
       "Sleep Duration\n",
       "less than 5 hours    38761\n",
       "6-8 hours            36957\n",
       "more than 8 hours    32696\n",
       "5-6 hours            32112\n",
       "unknown                 16\n",
       "Name: count, dtype: int64"
      ]
     },
     "execution_count": 53,
     "metadata": {},
     "output_type": "execute_result"
    }
   ],
   "source": [
    "df['Sleep Duration'].value_counts()"
   ]
  },
  {
   "cell_type": "code",
   "execution_count": 54,
   "id": "bd912c61-1002-46e0-afa5-fd4e0736fdc5",
   "metadata": {},
   "outputs": [],
   "source": [
    "df = df[df['Sleep Duration'] != 'unknown']"
   ]
  },
  {
   "cell_type": "code",
   "execution_count": 55,
   "id": "CXStEPVatohQ",
   "metadata": {
    "colab": {
     "base_uri": "https://localhost:8080/"
    },
    "id": "CXStEPVatohQ",
    "outputId": "abc12233-a5e1-4efc-8b2b-c48490e58d81"
   },
   "outputs": [
    {
     "data": {
      "text/plain": [
       "array(['bhm', 'llb', 'b.pharm', 'bba', 'mca', 'md', 'bsc', 'me', 'b.arch',\n",
       "       'bca', 'be', 'ma', 'b.ed', 'b.com', 'mba', 'm.com', 'mhm', 'ba',\n",
       "       'class 12', 'm.tech', 'phd', 'm.ed', 'msc', 'b.tech', 'llm',\n",
       "       'mbbs', 'm.pharm', 'm.arch'], dtype=object)"
      ]
     },
     "execution_count": 55,
     "metadata": {},
     "output_type": "execute_result"
    }
   ],
   "source": [
    "df['Degree'].unique()"
   ]
  },
  {
   "cell_type": "code",
   "execution_count": 56,
   "id": "fdf567d9-84f2-4fb6-9b9d-ba2164aeeb78",
   "metadata": {
    "colab": {
     "base_uri": "https://localhost:8080/",
     "height": 302
    },
    "id": "fdf567d9-84f2-4fb6-9b9d-ba2164aeeb78",
    "outputId": "1a9d7878-1fbf-4636-cb64-08fcbe1544b3"
   },
   "outputs": [
    {
     "data": {
      "text/html": [
       "<div>\n",
       "<style scoped>\n",
       "    .dataframe tbody tr th:only-of-type {\n",
       "        vertical-align: middle;\n",
       "    }\n",
       "\n",
       "    .dataframe tbody tr th {\n",
       "        vertical-align: top;\n",
       "    }\n",
       "\n",
       "    .dataframe thead th {\n",
       "        text-align: right;\n",
       "    }\n",
       "</style>\n",
       "<table border=\"1\" class=\"dataframe\">\n",
       "  <thead>\n",
       "    <tr style=\"text-align: right;\">\n",
       "      <th></th>\n",
       "      <th>Gender</th>\n",
       "      <th>Age</th>\n",
       "      <th>City</th>\n",
       "      <th>Working Professional or Student</th>\n",
       "      <th>Profession</th>\n",
       "      <th>Academic Pressure</th>\n",
       "      <th>Work Pressure</th>\n",
       "      <th>CGPA</th>\n",
       "      <th>Study Satisfaction</th>\n",
       "      <th>Job Satisfaction</th>\n",
       "      <th>Sleep Duration</th>\n",
       "      <th>Dietary Habits</th>\n",
       "      <th>Degree</th>\n",
       "      <th>Have you ever had suicidal thoughts ?</th>\n",
       "      <th>Work/Study Hours</th>\n",
       "      <th>Financial Stress</th>\n",
       "      <th>Family History of Mental Illness</th>\n",
       "      <th>Depression</th>\n",
       "    </tr>\n",
       "  </thead>\n",
       "  <tbody>\n",
       "    <tr>\n",
       "      <th>40112</th>\n",
       "      <td>female</td>\n",
       "      <td>45.0</td>\n",
       "      <td>delhi</td>\n",
       "      <td>working professional</td>\n",
       "      <td>business analyst</td>\n",
       "      <td>99999.0</td>\n",
       "      <td>2.0</td>\n",
       "      <td>99999.00</td>\n",
       "      <td>99999.0</td>\n",
       "      <td>5.0</td>\n",
       "      <td>less than 5 hours</td>\n",
       "      <td>healthy</td>\n",
       "      <td>m.tech</td>\n",
       "      <td>yes</td>\n",
       "      <td>0.0</td>\n",
       "      <td>1.0</td>\n",
       "      <td>yes</td>\n",
       "      <td>0</td>\n",
       "    </tr>\n",
       "    <tr>\n",
       "      <th>18324</th>\n",
       "      <td>female</td>\n",
       "      <td>28.0</td>\n",
       "      <td>nashik</td>\n",
       "      <td>student</td>\n",
       "      <td>not applicable</td>\n",
       "      <td>5.0</td>\n",
       "      <td>99999.0</td>\n",
       "      <td>8.96</td>\n",
       "      <td>1.0</td>\n",
       "      <td>99999.0</td>\n",
       "      <td>less than 5 hours</td>\n",
       "      <td>moderate</td>\n",
       "      <td>b.tech</td>\n",
       "      <td>yes</td>\n",
       "      <td>8.0</td>\n",
       "      <td>3.0</td>\n",
       "      <td>no</td>\n",
       "      <td>1</td>\n",
       "    </tr>\n",
       "    <tr>\n",
       "      <th>22423</th>\n",
       "      <td>female</td>\n",
       "      <td>25.0</td>\n",
       "      <td>nagpur</td>\n",
       "      <td>student</td>\n",
       "      <td>not applicable</td>\n",
       "      <td>5.0</td>\n",
       "      <td>99999.0</td>\n",
       "      <td>5.67</td>\n",
       "      <td>1.0</td>\n",
       "      <td>99999.0</td>\n",
       "      <td>6-8 hours</td>\n",
       "      <td>unhealthy</td>\n",
       "      <td>b.ed</td>\n",
       "      <td>yes</td>\n",
       "      <td>10.0</td>\n",
       "      <td>5.0</td>\n",
       "      <td>yes</td>\n",
       "      <td>1</td>\n",
       "    </tr>\n",
       "  </tbody>\n",
       "</table>\n",
       "</div>"
      ],
      "text/plain": [
       "       Gender   Age    City Working Professional or Student        Profession  \\\n",
       "40112  female  45.0   delhi            working professional  business analyst   \n",
       "18324  female  28.0  nashik                         student    not applicable   \n",
       "22423  female  25.0  nagpur                         student    not applicable   \n",
       "\n",
       "       Academic Pressure  Work Pressure      CGPA  Study Satisfaction  \\\n",
       "40112            99999.0            2.0  99999.00             99999.0   \n",
       "18324                5.0        99999.0      8.96                 1.0   \n",
       "22423                5.0        99999.0      5.67                 1.0   \n",
       "\n",
       "       Job Satisfaction     Sleep Duration Dietary Habits  Degree  \\\n",
       "40112               5.0  less than 5 hours        healthy  m.tech   \n",
       "18324           99999.0  less than 5 hours       moderate  b.tech   \n",
       "22423           99999.0          6-8 hours      unhealthy    b.ed   \n",
       "\n",
       "      Have you ever had suicidal thoughts ?  Work/Study Hours  \\\n",
       "40112                                   yes               0.0   \n",
       "18324                                   yes               8.0   \n",
       "22423                                   yes              10.0   \n",
       "\n",
       "       Financial Stress Family History of Mental Illness  Depression  \n",
       "40112               1.0                              yes           0  \n",
       "18324               3.0                               no           1  \n",
       "22423               5.0                              yes           1  "
      ]
     },
     "execution_count": 56,
     "metadata": {},
     "output_type": "execute_result"
    }
   ],
   "source": [
    "df.sample(3)"
   ]
  },
  {
   "cell_type": "code",
   "execution_count": 57,
   "id": "8XiJ0Jy_ucGQ",
   "metadata": {
    "colab": {
     "base_uri": "https://localhost:8080/"
    },
    "id": "8XiJ0Jy_ucGQ",
    "outputId": "b9a4694a-307c-4151-c46d-6cd421989aee"
   },
   "outputs": [
    {
     "data": {
      "text/plain": [
       "Dietary Habits\n",
       "moderate     49639\n",
       "unhealthy    46170\n",
       "healthy      44699\n",
       "unknown         18\n",
       "Name: count, dtype: int64"
      ]
     },
     "execution_count": 57,
     "metadata": {},
     "output_type": "execute_result"
    }
   ],
   "source": [
    "df['Dietary Habits'].value_counts()"
   ]
  },
  {
   "cell_type": "code",
   "execution_count": 58,
   "id": "e1984ab1-5b77-4006-9d69-e53a5f543b28",
   "metadata": {},
   "outputs": [
    {
     "data": {
      "text/plain": [
       "array(['healthy', 'unhealthy', 'moderate', 'unknown'], dtype=object)"
      ]
     },
     "execution_count": 58,
     "metadata": {},
     "output_type": "execute_result"
    }
   ],
   "source": [
    "df['Dietary Habits'].unique()"
   ]
  },
  {
   "cell_type": "code",
   "execution_count": 59,
   "id": "88c5b3de-fdc2-4a51-8316-f5ced488c47c",
   "metadata": {},
   "outputs": [],
   "source": [
    "df = df[df['Dietary Habits'] != 'unknown']"
   ]
  },
  {
   "cell_type": "code",
   "execution_count": 60,
   "id": "zDqYPyW9uOCO",
   "metadata": {
    "id": "zDqYPyW9uOCO"
   },
   "outputs": [],
   "source": [
    "df['Gender'] = df['Gender'].map({'male': 1, 'female': 0})\n",
    "df['Working Professional or Student'] = df['Working Professional or Student'].map({'working professional': 1, 'student': 0})\n",
    "df['Family History of Mental Illness'] = df['Family History of Mental Illness'].map({'yes': 1, 'no': 0})\n",
    "df['Have you ever had suicidal thoughts ?'] = df['Have you ever had suicidal thoughts ?'].map({'yes': 1, 'no': 0})"
   ]
  },
  {
   "cell_type": "code",
   "execution_count": 61,
   "id": "KYlioY-avc2G",
   "metadata": {
    "colab": {
     "base_uri": "https://localhost:8080/",
     "height": 513
    },
    "id": "KYlioY-avc2G",
    "outputId": "c9e62598-c2f9-46df-b9ea-834fe5a501e6"
   },
   "outputs": [],
   "source": [
    "df['Dietary Habits'] = df['Dietary Habits'].map({'healthy': 3, 'unhealthy' : 1, 'moderate' : 2})"
   ]
  },
  {
   "cell_type": "code",
   "execution_count": 62,
   "id": "QrDr0VYZvljR",
   "metadata": {
    "id": "QrDr0VYZvljR"
   },
   "outputs": [],
   "source": [
    "df['Sleep Duration'] = df['Sleep Duration'].map({'more than 8 hours' :4 , 'less than 5 hours' : 1, '5-6 hours' : 2, '6-8 hours' : 3})"
   ]
  },
  {
   "cell_type": "code",
   "execution_count": 63,
   "id": "8632ab60-8b3f-47bb-8d85-cd2b5bb83f60",
   "metadata": {},
   "outputs": [
    {
     "data": {
      "text/html": [
       "<div>\n",
       "<style scoped>\n",
       "    .dataframe tbody tr th:only-of-type {\n",
       "        vertical-align: middle;\n",
       "    }\n",
       "\n",
       "    .dataframe tbody tr th {\n",
       "        vertical-align: top;\n",
       "    }\n",
       "\n",
       "    .dataframe thead th {\n",
       "        text-align: right;\n",
       "    }\n",
       "</style>\n",
       "<table border=\"1\" class=\"dataframe\">\n",
       "  <thead>\n",
       "    <tr style=\"text-align: right;\">\n",
       "      <th></th>\n",
       "      <th>Gender</th>\n",
       "      <th>Age</th>\n",
       "      <th>City</th>\n",
       "      <th>Working Professional or Student</th>\n",
       "      <th>Profession</th>\n",
       "      <th>Academic Pressure</th>\n",
       "      <th>Work Pressure</th>\n",
       "      <th>CGPA</th>\n",
       "      <th>Study Satisfaction</th>\n",
       "      <th>Job Satisfaction</th>\n",
       "      <th>Sleep Duration</th>\n",
       "      <th>Dietary Habits</th>\n",
       "      <th>Degree</th>\n",
       "      <th>Have you ever had suicidal thoughts ?</th>\n",
       "      <th>Work/Study Hours</th>\n",
       "      <th>Financial Stress</th>\n",
       "      <th>Family History of Mental Illness</th>\n",
       "      <th>Depression</th>\n",
       "    </tr>\n",
       "  </thead>\n",
       "  <tbody>\n",
       "    <tr>\n",
       "      <th>70209</th>\n",
       "      <td>1</td>\n",
       "      <td>46.0</td>\n",
       "      <td>ludhiana</td>\n",
       "      <td>1</td>\n",
       "      <td>teacher</td>\n",
       "      <td>99999.0</td>\n",
       "      <td>1.0</td>\n",
       "      <td>99999.00</td>\n",
       "      <td>99999.0</td>\n",
       "      <td>4.0</td>\n",
       "      <td>1</td>\n",
       "      <td>2</td>\n",
       "      <td>b.com</td>\n",
       "      <td>1</td>\n",
       "      <td>9.0</td>\n",
       "      <td>4.0</td>\n",
       "      <td>0</td>\n",
       "      <td>0</td>\n",
       "    </tr>\n",
       "    <tr>\n",
       "      <th>24249</th>\n",
       "      <td>0</td>\n",
       "      <td>54.0</td>\n",
       "      <td>visakhapatnam</td>\n",
       "      <td>1</td>\n",
       "      <td>teacher</td>\n",
       "      <td>99999.0</td>\n",
       "      <td>1.0</td>\n",
       "      <td>99999.00</td>\n",
       "      <td>99999.0</td>\n",
       "      <td>3.0</td>\n",
       "      <td>3</td>\n",
       "      <td>3</td>\n",
       "      <td>b.ed</td>\n",
       "      <td>1</td>\n",
       "      <td>0.0</td>\n",
       "      <td>2.0</td>\n",
       "      <td>0</td>\n",
       "      <td>0</td>\n",
       "    </tr>\n",
       "    <tr>\n",
       "      <th>63565</th>\n",
       "      <td>0</td>\n",
       "      <td>34.0</td>\n",
       "      <td>vadodara</td>\n",
       "      <td>0</td>\n",
       "      <td>not applicable</td>\n",
       "      <td>2.0</td>\n",
       "      <td>99999.0</td>\n",
       "      <td>5.08</td>\n",
       "      <td>2.0</td>\n",
       "      <td>99999.0</td>\n",
       "      <td>3</td>\n",
       "      <td>3</td>\n",
       "      <td>md</td>\n",
       "      <td>0</td>\n",
       "      <td>1.0</td>\n",
       "      <td>5.0</td>\n",
       "      <td>1</td>\n",
       "      <td>0</td>\n",
       "    </tr>\n",
       "    <tr>\n",
       "      <th>129174</th>\n",
       "      <td>0</td>\n",
       "      <td>54.0</td>\n",
       "      <td>varanasi</td>\n",
       "      <td>1</td>\n",
       "      <td>architect</td>\n",
       "      <td>99999.0</td>\n",
       "      <td>4.0</td>\n",
       "      <td>99999.00</td>\n",
       "      <td>99999.0</td>\n",
       "      <td>4.0</td>\n",
       "      <td>1</td>\n",
       "      <td>2</td>\n",
       "      <td>mca</td>\n",
       "      <td>1</td>\n",
       "      <td>12.0</td>\n",
       "      <td>1.0</td>\n",
       "      <td>1</td>\n",
       "      <td>0</td>\n",
       "    </tr>\n",
       "    <tr>\n",
       "      <th>24691</th>\n",
       "      <td>1</td>\n",
       "      <td>24.0</td>\n",
       "      <td>agra</td>\n",
       "      <td>0</td>\n",
       "      <td>not applicable</td>\n",
       "      <td>1.0</td>\n",
       "      <td>99999.0</td>\n",
       "      <td>7.85</td>\n",
       "      <td>3.0</td>\n",
       "      <td>99999.0</td>\n",
       "      <td>4</td>\n",
       "      <td>2</td>\n",
       "      <td>m.tech</td>\n",
       "      <td>1</td>\n",
       "      <td>6.0</td>\n",
       "      <td>1.0</td>\n",
       "      <td>1</td>\n",
       "      <td>0</td>\n",
       "    </tr>\n",
       "    <tr>\n",
       "      <th>82735</th>\n",
       "      <td>1</td>\n",
       "      <td>42.0</td>\n",
       "      <td>thane</td>\n",
       "      <td>1</td>\n",
       "      <td>content writer</td>\n",
       "      <td>99999.0</td>\n",
       "      <td>4.0</td>\n",
       "      <td>99999.00</td>\n",
       "      <td>99999.0</td>\n",
       "      <td>1.0</td>\n",
       "      <td>4</td>\n",
       "      <td>2</td>\n",
       "      <td>bca</td>\n",
       "      <td>0</td>\n",
       "      <td>7.0</td>\n",
       "      <td>2.0</td>\n",
       "      <td>0</td>\n",
       "      <td>0</td>\n",
       "    </tr>\n",
       "  </tbody>\n",
       "</table>\n",
       "</div>"
      ],
      "text/plain": [
       "        Gender   Age           City  Working Professional or Student  \\\n",
       "70209        1  46.0       ludhiana                                1   \n",
       "24249        0  54.0  visakhapatnam                                1   \n",
       "63565        0  34.0       vadodara                                0   \n",
       "129174       0  54.0       varanasi                                1   \n",
       "24691        1  24.0           agra                                0   \n",
       "82735        1  42.0          thane                                1   \n",
       "\n",
       "            Profession  Academic Pressure  Work Pressure      CGPA  \\\n",
       "70209          teacher            99999.0            1.0  99999.00   \n",
       "24249          teacher            99999.0            1.0  99999.00   \n",
       "63565   not applicable                2.0        99999.0      5.08   \n",
       "129174       architect            99999.0            4.0  99999.00   \n",
       "24691   not applicable                1.0        99999.0      7.85   \n",
       "82735   content writer            99999.0            4.0  99999.00   \n",
       "\n",
       "        Study Satisfaction  Job Satisfaction  Sleep Duration  Dietary Habits  \\\n",
       "70209              99999.0               4.0               1               2   \n",
       "24249              99999.0               3.0               3               3   \n",
       "63565                  2.0           99999.0               3               3   \n",
       "129174             99999.0               4.0               1               2   \n",
       "24691                  3.0           99999.0               4               2   \n",
       "82735              99999.0               1.0               4               2   \n",
       "\n",
       "        Degree  Have you ever had suicidal thoughts ?  Work/Study Hours  \\\n",
       "70209    b.com                                      1               9.0   \n",
       "24249     b.ed                                      1               0.0   \n",
       "63565       md                                      0               1.0   \n",
       "129174     mca                                      1              12.0   \n",
       "24691   m.tech                                      1               6.0   \n",
       "82735      bca                                      0               7.0   \n",
       "\n",
       "        Financial Stress  Family History of Mental Illness  Depression  \n",
       "70209                4.0                                 0           0  \n",
       "24249                2.0                                 0           0  \n",
       "63565                5.0                                 1           0  \n",
       "129174               1.0                                 1           0  \n",
       "24691                1.0                                 1           0  \n",
       "82735                2.0                                 0           0  "
      ]
     },
     "execution_count": 63,
     "metadata": {},
     "output_type": "execute_result"
    }
   ],
   "source": [
    "df.sample(6)"
   ]
  },
  {
   "cell_type": "code",
   "execution_count": 64,
   "id": "c4df042d-0849-4414-9abd-7aff96c2888f",
   "metadata": {
    "scrolled": true
   },
   "outputs": [
    {
     "data": {
      "text/plain": [
       "City\n",
       "kalyan                6586\n",
       "patna                 5917\n",
       "vasai-virar           5755\n",
       "kolkata               5679\n",
       "ahmedabad             5604\n",
       "meerut                5521\n",
       "ludhiana              5223\n",
       "pune                  5205\n",
       "rajkot                5201\n",
       "visakhapatnam         5173\n",
       "srinagar              5061\n",
       "mumbai                4959\n",
       "indore                4865\n",
       "agra                  4678\n",
       "surat                 4631\n",
       "varanasi              4598\n",
       "vadodara              4559\n",
       "hyderabad             4488\n",
       "kanpur                4394\n",
       "jaipur                4322\n",
       "thane                 4282\n",
       "lucknow               4273\n",
       "nagpur                4202\n",
       "bangalore             4121\n",
       "chennai               4041\n",
       "ghaziabad             3614\n",
       "delhi                 3591\n",
       "bhopal                3467\n",
       "faridabad             3261\n",
       "nashik                3140\n",
       "mihir                    7\n",
       "nandini                  4\n",
       "saanvi                   3\n",
       "city                     3\n",
       "pratyush                 3\n",
       "harsha                   3\n",
       "bhavna                   3\n",
       "mahi                     3\n",
       "vidya                    3\n",
       "mca                      2\n",
       "atharv                   2\n",
       "m.com                    2\n",
       "molkata                  2\n",
       "nalini                   2\n",
       "keshav                   2\n",
       "ayush                    2\n",
       "tushar                   1\n",
       "msc                      1\n",
       "parth                    1\n",
       "chhavi                   1\n",
       "vaishnavi                1\n",
       "kibara                   1\n",
       "no                       1\n",
       "rashi                    1\n",
       "kashish                  1\n",
       "me                       1\n",
       "itheg                    1\n",
       "researcher               1\n",
       "kagan                    1\n",
       "armaan                   1\n",
       "ithal                    1\n",
       "nalyan                   1\n",
       "dhruv                    1\n",
       "galesabad                1\n",
       "harsh                    1\n",
       "aaradhya                 1\n",
       "pooja                    1\n",
       "khushi                   1\n",
       "khaziabad                1\n",
       "reyansh                  1\n",
       "plata                    1\n",
       "gaurav                   1\n",
       "vaanya                   1\n",
       "ishanabad                1\n",
       "vidhi                    1\n",
       "gurgaon                  1\n",
       "krishna                  1\n",
       "aishwarya                1\n",
       "aditya                   1\n",
       "malyansh                 1\n",
       "raghavendra              1\n",
       "m.tech                   1\n",
       "less delhi               1\n",
       "3.0                      1\n",
       "less than 5 kalyan       1\n",
       "mira                     1\n",
       "moreadhyay               1\n",
       "morena                   1\n",
       "ishkarsh                 1\n",
       "kashk                    1\n",
       "tolkata                  1\n",
       "anvi                     1\n",
       "krinda                   1\n",
       "ayansh                   1\n",
       "shrey                    1\n",
       "ivaan                    1\n",
       "jhanvi                   1\n",
       "Name: count, dtype: int64"
      ]
     },
     "execution_count": 64,
     "metadata": {},
     "output_type": "execute_result"
    }
   ],
   "source": [
    "pd.options.display.max_rows = None\n",
    "df['City'].value_counts()\n"
   ]
  },
  {
   "cell_type": "code",
   "execution_count": 65,
   "id": "39860167-b648-4fa6-a9d6-3dd643dfe227",
   "metadata": {},
   "outputs": [],
   "source": [
    "city_counts = df['City'].value_counts()\n",
    "valid_cities = city_counts[city_counts >= 8].index\n",
    "df = df[df['City'].isin(valid_cities)]"
   ]
  },
  {
   "cell_type": "code",
   "execution_count": 66,
   "id": "25fa1c81-c03e-4abe-a013-c6ef08989b00",
   "metadata": {},
   "outputs": [],
   "source": [
    "city_mapping = {\n",
    "    'kalyan': 1,\n",
    "    'patna': 2,\n",
    "    'vasai-virar': 3,\n",
    "    'kolkata': 4,\n",
    "    'ahmedabad': 5,\n",
    "    'meerut': 6,\n",
    "    'ludhiana': 7,\n",
    "    'pune': 8,\n",
    "    'rajkot': 9,\n",
    "    'visakhapatnam': 10,\n",
    "    'srinagar': 11,\n",
    "    'mumbai': 12,\n",
    "    'indore': 13,\n",
    "    'agra': 14,\n",
    "    'surat': 15,\n",
    "    'varanasi': 16,\n",
    "    'vadodara': 17,\n",
    "    'hyderabad': 18,\n",
    "    'kanpur': 19,\n",
    "    'jaipur': 20,\n",
    "    'thane': 21,\n",
    "    'lucknow': 22,\n",
    "    'nagpur': 23,\n",
    "    'bangalore': 24,\n",
    "    'chennai': 25,\n",
    "    'ghaziabad': 26,\n",
    "    'delhi': 27,\n",
    "    'bhopal': 28,\n",
    "    'faridabad': 29,\n",
    "    'nashik': 30\n",
    "}\n",
    "\n",
    "df['City'] = df['City'].map(city_mapping)\n"
   ]
  },
  {
   "cell_type": "code",
   "execution_count": 67,
   "id": "273c9a65-ff60-4748-8ee1-c8dcdbd7b624",
   "metadata": {},
   "outputs": [
    {
     "data": {
      "text/plain": [
       "Profession\n",
       "not applicable            27777\n",
       "teacher                   24878\n",
       "unknown                    8729\n",
       "content writer             7808\n",
       "architect                  4363\n",
       "consultant                 4220\n",
       "hr manager                 4012\n",
       "pharmacist                 3885\n",
       "doctor                     3251\n",
       "business analyst           3155\n",
       "entrepreneur               2962\n",
       "chemist                    2959\n",
       "chef                       2861\n",
       "educational consultant     2846\n",
       "data scientist             2387\n",
       "researcher                 2321\n",
       "lawyer                     2209\n",
       "customer support           2053\n",
       "marketing manager          1975\n",
       "pilot                      1911\n",
       "travel consultant          1859\n",
       "plumber                    1741\n",
       "sales executive            1736\n",
       "manager                    1733\n",
       "judge                      1710\n",
       "electrician                1581\n",
       "financial analyst          1569\n",
       "software engineer          1509\n",
       "civil engineer             1462\n",
       "ux/ui designer             1449\n",
       "digital marketer           1369\n",
       "accountant                 1338\n",
       "finanancial analyst        1327\n",
       "mechanical engineer        1175\n",
       "graphic designer           1159\n",
       "research analyst            690\n",
       "investment banker           393\n",
       "student                       7\n",
       "academic                      5\n",
       "bca                           3\n",
       "unemployed                    3\n",
       "yogesh                        3\n",
       "profession                    3\n",
       "phd                           2\n",
       "mba                           2\n",
       "llm                           2\n",
       "analyst                       1\n",
       "nagpur                        1\n",
       "moderate                      1\n",
       "m.ed                          1\n",
       "family consultant             1\n",
       "pranav                        1\n",
       "patna                         1\n",
       "visakhapatnam                 1\n",
       "b.ed                          1\n",
       "bba                           1\n",
       "mbbs                          1\n",
       "working professional          1\n",
       "medical doctor                1\n",
       "b.com                         1\n",
       "city manager                  1\n",
       "familyvirar                   1\n",
       "dev                           1\n",
       "be                            1\n",
       "yuvraj                        1\n",
       "Name: count, dtype: int64"
      ]
     },
     "execution_count": 67,
     "metadata": {},
     "output_type": "execute_result"
    }
   ],
   "source": [
    "df['Profession'].value_counts()"
   ]
  },
  {
   "cell_type": "code",
   "execution_count": 68,
   "id": "072a53dc-c50c-47cd-8d57-99a57896ccbe",
   "metadata": {},
   "outputs": [],
   "source": [
    "unknown_values = [\n",
    "    'academic', 'bca', 'yogesh', 'profession', 'phd', 'mba', 'llm', 'nagpur',\n",
    "    'moderate', 'm.ed', 'pranav', 'patna', 'visakhapatnam', 'b.ed', 'bba', \n",
    "    'mbbs', 'working professional', 'medical doctor', 'b.com', 'city manager', \n",
    "    'familyvirar', 'dev', 'be', 'yuvraj'\n",
    "]\n",
    "\n",
    "df['Profession'] = df['Profession'].apply(lambda x: 'unknown' if x in unknown_values else x)\n"
   ]
  },
  {
   "cell_type": "code",
   "execution_count": 69,
   "id": "5bbcb98d-d65e-40ee-bdb6-42640c22814f",
   "metadata": {},
   "outputs": [],
   "source": [
    "df['Profession'] = df['Profession'].replace('not applicable' , 'student')"
   ]
  },
  {
   "cell_type": "code",
   "execution_count": 70,
   "id": "fab36937-be06-4f7b-b3ec-b00fd25009d8",
   "metadata": {},
   "outputs": [],
   "source": [
    "profession_mapping = {\n",
    "    'student': 1,\n",
    "    'teacher': 2,\n",
    "    'unknown': 3,\n",
    "    'content writer': 4,\n",
    "    'architect': 5,\n",
    "    'consultant': 6,\n",
    "    'hr manager': 7,\n",
    "    'pharmacist': 8,\n",
    "    'doctor': 9,\n",
    "    'business analyst': 10,\n",
    "    'entrepreneur': 11,\n",
    "    'chemist': 12,\n",
    "    'chef': 13,\n",
    "    'educational consultant': 14,\n",
    "    'data scientist': 15,\n",
    "    'researcher': 16,\n",
    "    'lawyer': 17,\n",
    "    'customer support': 18,\n",
    "    'marketing manager': 19,\n",
    "    'pilot': 20,\n",
    "    'travel consultant': 21,\n",
    "    'plumber': 22,\n",
    "    'sales executive': 23,\n",
    "    'manager': 24,\n",
    "    'judge': 25,\n",
    "    'electrician': 26,\n",
    "    'financial analyst': 27,\n",
    "    'software engineer': 28,\n",
    "    'civil engineer': 29,\n",
    "    'ux/ui designer': 30,\n",
    "    'digital marketer': 31,\n",
    "    'accountant': 32,\n",
    "    'finanancial analyst': 33,\n",
    "    'mechanical engineer': 34,\n",
    "    'graphic designer': 35,\n",
    "    'research analyst': 36,\n",
    "    'investment banker': 37,\n",
    "    'unemployed': 38,\n",
    "    'family consultant': 39,\n",
    "    'analyst': 40\n",
    "}\n",
    "\n",
    "df['Profession'] = df['Profession'].map(profession_mapping)\n"
   ]
  },
  {
   "cell_type": "code",
   "execution_count": 71,
   "id": "45c5fe5c-6093-4755-8c91-31303699c969",
   "metadata": {},
   "outputs": [
    {
     "data": {
      "text/plain": [
       "Degree\n",
       "class 12    14694\n",
       "b.ed        11683\n",
       "b.arch       8734\n",
       "b.com        8107\n",
       "b.pharm      5848\n",
       "bca          5729\n",
       "m.ed         5661\n",
       "mca          5224\n",
       "bba          5027\n",
       "bsc          5018\n",
       "msc          4872\n",
       "llm          4645\n",
       "m.pharm      4534\n",
       "m.tech       4472\n",
       "b.tech       4423\n",
       "llb          4341\n",
       "bhm          4299\n",
       "mba          3812\n",
       "ba           3744\n",
       "me           3626\n",
       "md           3377\n",
       "mhm          3285\n",
       "phd          3100\n",
       "be           3099\n",
       "m.com        3091\n",
       "mbbs         3077\n",
       "ma           2884\n",
       "m.arch          5\n",
       "Name: count, dtype: int64"
      ]
     },
     "execution_count": 71,
     "metadata": {},
     "output_type": "execute_result"
    }
   ],
   "source": [
    "df['Degree'].value_counts()"
   ]
  },
  {
   "cell_type": "code",
   "execution_count": 72,
   "id": "21ae6068-997b-4e3d-86d8-7d53cdcf652a",
   "metadata": {},
   "outputs": [],
   "source": [
    "degree_mapping = {\n",
    "    \"class 12\": 1, \"b.ed\": 2, \"b.arch\": 3, \"b.com\": 4, \"b.pharm\": 5, \"bca\": 6, \n",
    "    \"m.ed\": 7, \"mca\": 8, \"bba\": 9, \"bsc\": 10, \"msc\": 11, \"llm\": 12, \n",
    "    \"m.pharm\": 13, \"m.tech\": 14, \"b.tech\": 15, \"llb\": 16, \"bhm\": 17, \n",
    "    \"mba\": 18, \"ba\": 19, \"me\": 20, \"md\": 21, \"mhm\": 22, \"phd\": 23, \n",
    "    \"be\": 24, \"m.com\": 25, \"mbbs\": 26, \"ma\": 27, \"m.arch\": 28\n",
    "}\n",
    "\n",
    "df['Degree'] = df['Degree'].map(degree_mapping)\n"
   ]
  },
  {
   "cell_type": "code",
   "execution_count": 73,
   "id": "81b23e02-8d4e-402d-9abf-b180508fe8d3",
   "metadata": {},
   "outputs": [],
   "source": [
    "pd.options.display.max_rows = 10"
   ]
  },
  {
   "cell_type": "code",
   "execution_count": 74,
   "id": "83c36b55-5e82-435e-9343-eaed02a4eeb9",
   "metadata": {},
   "outputs": [
    {
     "data": {
      "text/html": [
       "<div>\n",
       "<style scoped>\n",
       "    .dataframe tbody tr th:only-of-type {\n",
       "        vertical-align: middle;\n",
       "    }\n",
       "\n",
       "    .dataframe tbody tr th {\n",
       "        vertical-align: top;\n",
       "    }\n",
       "\n",
       "    .dataframe thead th {\n",
       "        text-align: right;\n",
       "    }\n",
       "</style>\n",
       "<table border=\"1\" class=\"dataframe\">\n",
       "  <thead>\n",
       "    <tr style=\"text-align: right;\">\n",
       "      <th></th>\n",
       "      <th>Gender</th>\n",
       "      <th>Age</th>\n",
       "      <th>City</th>\n",
       "      <th>Working Professional or Student</th>\n",
       "      <th>Profession</th>\n",
       "      <th>Academic Pressure</th>\n",
       "      <th>Work Pressure</th>\n",
       "      <th>CGPA</th>\n",
       "      <th>Study Satisfaction</th>\n",
       "      <th>Job Satisfaction</th>\n",
       "      <th>Sleep Duration</th>\n",
       "      <th>Dietary Habits</th>\n",
       "      <th>Degree</th>\n",
       "      <th>Have you ever had suicidal thoughts ?</th>\n",
       "      <th>Work/Study Hours</th>\n",
       "      <th>Financial Stress</th>\n",
       "      <th>Family History of Mental Illness</th>\n",
       "      <th>Depression</th>\n",
       "    </tr>\n",
       "  </thead>\n",
       "  <tbody>\n",
       "    <tr>\n",
       "      <th>109576</th>\n",
       "      <td>0</td>\n",
       "      <td>31.0</td>\n",
       "      <td>1</td>\n",
       "      <td>0</td>\n",
       "      <td>1</td>\n",
       "      <td>3.0</td>\n",
       "      <td>99999.0</td>\n",
       "      <td>5.1</td>\n",
       "      <td>2.0</td>\n",
       "      <td>99999.0</td>\n",
       "      <td>4</td>\n",
       "      <td>3</td>\n",
       "      <td>17</td>\n",
       "      <td>0</td>\n",
       "      <td>0.0</td>\n",
       "      <td>2.0</td>\n",
       "      <td>1</td>\n",
       "      <td>1</td>\n",
       "    </tr>\n",
       "    <tr>\n",
       "      <th>61920</th>\n",
       "      <td>1</td>\n",
       "      <td>46.0</td>\n",
       "      <td>10</td>\n",
       "      <td>1</td>\n",
       "      <td>34</td>\n",
       "      <td>99999.0</td>\n",
       "      <td>1.0</td>\n",
       "      <td>99999.0</td>\n",
       "      <td>99999.0</td>\n",
       "      <td>5.0</td>\n",
       "      <td>1</td>\n",
       "      <td>2</td>\n",
       "      <td>15</td>\n",
       "      <td>0</td>\n",
       "      <td>4.0</td>\n",
       "      <td>3.0</td>\n",
       "      <td>0</td>\n",
       "      <td>0</td>\n",
       "    </tr>\n",
       "    <tr>\n",
       "      <th>131888</th>\n",
       "      <td>0</td>\n",
       "      <td>50.0</td>\n",
       "      <td>12</td>\n",
       "      <td>1</td>\n",
       "      <td>32</td>\n",
       "      <td>99999.0</td>\n",
       "      <td>2.0</td>\n",
       "      <td>99999.0</td>\n",
       "      <td>99999.0</td>\n",
       "      <td>1.0</td>\n",
       "      <td>3</td>\n",
       "      <td>1</td>\n",
       "      <td>4</td>\n",
       "      <td>1</td>\n",
       "      <td>6.0</td>\n",
       "      <td>5.0</td>\n",
       "      <td>0</td>\n",
       "      <td>0</td>\n",
       "    </tr>\n",
       "  </tbody>\n",
       "</table>\n",
       "</div>"
      ],
      "text/plain": [
       "        Gender   Age  City  Working Professional or Student  Profession  \\\n",
       "109576       0  31.0     1                                0           1   \n",
       "61920        1  46.0    10                                1          34   \n",
       "131888       0  50.0    12                                1          32   \n",
       "\n",
       "        Academic Pressure  Work Pressure     CGPA  Study Satisfaction  \\\n",
       "109576                3.0        99999.0      5.1                 2.0   \n",
       "61920             99999.0            1.0  99999.0             99999.0   \n",
       "131888            99999.0            2.0  99999.0             99999.0   \n",
       "\n",
       "        Job Satisfaction  Sleep Duration  Dietary Habits  Degree  \\\n",
       "109576           99999.0               4               3      17   \n",
       "61920                5.0               1               2      15   \n",
       "131888               1.0               3               1       4   \n",
       "\n",
       "        Have you ever had suicidal thoughts ?  Work/Study Hours  \\\n",
       "109576                                      0               0.0   \n",
       "61920                                       0               4.0   \n",
       "131888                                      1               6.0   \n",
       "\n",
       "        Financial Stress  Family History of Mental Illness  Depression  \n",
       "109576               2.0                                 1           1  \n",
       "61920                3.0                                 0           0  \n",
       "131888               5.0                                 0           0  "
      ]
     },
     "execution_count": 74,
     "metadata": {},
     "output_type": "execute_result"
    }
   ],
   "source": [
    "df.sample(3)"
   ]
  },
  {
   "cell_type": "code",
   "execution_count": 75,
   "id": "2026277b-9342-4c61-9fc3-b4ef5944d5b2",
   "metadata": {},
   "outputs": [],
   "source": [
    "df1 = df.copy()"
   ]
  },
  {
   "cell_type": "code",
   "execution_count": 76,
   "id": "83f4afbe-be23-457f-874c-b326d60909c9",
   "metadata": {},
   "outputs": [],
   "source": [
    "df1.replace(99999, np.nan, inplace=True)"
   ]
  },
  {
   "cell_type": "code",
   "execution_count": 194,
   "id": "c820e0f4-bfc9-4fee-bc21-0054e2292fc0",
   "metadata": {},
   "outputs": [],
   "source": [
    "columns_to_fill = ['Academic Pressure', 'Work Pressure', 'CGPA', 'Study Satisfaction', 'Job Satisfaction']  \n",
    "df1[columns_to_fill] = df1[columns_to_fill].apply(lambda col: col.fillna(col.median()))\n"
   ]
  },
  {
   "cell_type": "code",
   "execution_count": 77,
   "id": "1e0f88df-8a43-4069-95f1-ed3a0ae37057",
   "metadata": {},
   "outputs": [
    {
     "data": {
      "text/html": [
       "<div>\n",
       "<style scoped>\n",
       "    .dataframe tbody tr th:only-of-type {\n",
       "        vertical-align: middle;\n",
       "    }\n",
       "\n",
       "    .dataframe tbody tr th {\n",
       "        vertical-align: top;\n",
       "    }\n",
       "\n",
       "    .dataframe thead th {\n",
       "        text-align: right;\n",
       "    }\n",
       "</style>\n",
       "<table border=\"1\" class=\"dataframe\">\n",
       "  <thead>\n",
       "    <tr style=\"text-align: right;\">\n",
       "      <th></th>\n",
       "      <th>Gender</th>\n",
       "      <th>Age</th>\n",
       "      <th>City</th>\n",
       "      <th>Working Professional or Student</th>\n",
       "      <th>Profession</th>\n",
       "      <th>Academic Pressure</th>\n",
       "      <th>Work Pressure</th>\n",
       "      <th>CGPA</th>\n",
       "      <th>Study Satisfaction</th>\n",
       "      <th>Job Satisfaction</th>\n",
       "      <th>Sleep Duration</th>\n",
       "      <th>Dietary Habits</th>\n",
       "      <th>Degree</th>\n",
       "      <th>Have you ever had suicidal thoughts ?</th>\n",
       "      <th>Work/Study Hours</th>\n",
       "      <th>Financial Stress</th>\n",
       "      <th>Family History of Mental Illness</th>\n",
       "      <th>Depression</th>\n",
       "    </tr>\n",
       "  </thead>\n",
       "  <tbody>\n",
       "    <tr>\n",
       "      <th>100069</th>\n",
       "      <td>1</td>\n",
       "      <td>30.0</td>\n",
       "      <td>1</td>\n",
       "      <td>1</td>\n",
       "      <td>4</td>\n",
       "      <td>NaN</td>\n",
       "      <td>1.0</td>\n",
       "      <td>NaN</td>\n",
       "      <td>NaN</td>\n",
       "      <td>4.0</td>\n",
       "      <td>3</td>\n",
       "      <td>3</td>\n",
       "      <td>2</td>\n",
       "      <td>1</td>\n",
       "      <td>10.0</td>\n",
       "      <td>2.0</td>\n",
       "      <td>0</td>\n",
       "      <td>0</td>\n",
       "    </tr>\n",
       "    <tr>\n",
       "      <th>41408</th>\n",
       "      <td>1</td>\n",
       "      <td>20.0</td>\n",
       "      <td>9</td>\n",
       "      <td>1</td>\n",
       "      <td>3</td>\n",
       "      <td>NaN</td>\n",
       "      <td>2.0</td>\n",
       "      <td>NaN</td>\n",
       "      <td>NaN</td>\n",
       "      <td>5.0</td>\n",
       "      <td>1</td>\n",
       "      <td>1</td>\n",
       "      <td>1</td>\n",
       "      <td>0</td>\n",
       "      <td>4.0</td>\n",
       "      <td>2.0</td>\n",
       "      <td>0</td>\n",
       "      <td>0</td>\n",
       "    </tr>\n",
       "    <tr>\n",
       "      <th>117094</th>\n",
       "      <td>1</td>\n",
       "      <td>30.0</td>\n",
       "      <td>14</td>\n",
       "      <td>0</td>\n",
       "      <td>1</td>\n",
       "      <td>2.0</td>\n",
       "      <td>NaN</td>\n",
       "      <td>5.84</td>\n",
       "      <td>4.0</td>\n",
       "      <td>NaN</td>\n",
       "      <td>3</td>\n",
       "      <td>2</td>\n",
       "      <td>11</td>\n",
       "      <td>1</td>\n",
       "      <td>10.0</td>\n",
       "      <td>5.0</td>\n",
       "      <td>1</td>\n",
       "      <td>1</td>\n",
       "    </tr>\n",
       "    <tr>\n",
       "      <th>85888</th>\n",
       "      <td>1</td>\n",
       "      <td>19.0</td>\n",
       "      <td>5</td>\n",
       "      <td>0</td>\n",
       "      <td>1</td>\n",
       "      <td>2.0</td>\n",
       "      <td>NaN</td>\n",
       "      <td>8.81</td>\n",
       "      <td>4.0</td>\n",
       "      <td>NaN</td>\n",
       "      <td>3</td>\n",
       "      <td>1</td>\n",
       "      <td>1</td>\n",
       "      <td>1</td>\n",
       "      <td>10.0</td>\n",
       "      <td>4.0</td>\n",
       "      <td>1</td>\n",
       "      <td>1</td>\n",
       "    </tr>\n",
       "  </tbody>\n",
       "</table>\n",
       "</div>"
      ],
      "text/plain": [
       "        Gender   Age  City  Working Professional or Student  Profession  \\\n",
       "100069       1  30.0     1                                1           4   \n",
       "41408        1  20.0     9                                1           3   \n",
       "117094       1  30.0    14                                0           1   \n",
       "85888        1  19.0     5                                0           1   \n",
       "\n",
       "        Academic Pressure  Work Pressure  CGPA  Study Satisfaction  \\\n",
       "100069                NaN            1.0   NaN                 NaN   \n",
       "41408                 NaN            2.0   NaN                 NaN   \n",
       "117094                2.0            NaN  5.84                 4.0   \n",
       "85888                 2.0            NaN  8.81                 4.0   \n",
       "\n",
       "        Job Satisfaction  Sleep Duration  Dietary Habits  Degree  \\\n",
       "100069               4.0               3               3       2   \n",
       "41408                5.0               1               1       1   \n",
       "117094               NaN               3               2      11   \n",
       "85888                NaN               3               1       1   \n",
       "\n",
       "        Have you ever had suicidal thoughts ?  Work/Study Hours  \\\n",
       "100069                                      1              10.0   \n",
       "41408                                       0               4.0   \n",
       "117094                                      1              10.0   \n",
       "85888                                       1              10.0   \n",
       "\n",
       "        Financial Stress  Family History of Mental Illness  Depression  \n",
       "100069               2.0                                 0           0  \n",
       "41408                2.0                                 0           0  \n",
       "117094               5.0                                 1           1  \n",
       "85888                4.0                                 1           1  "
      ]
     },
     "execution_count": 77,
     "metadata": {},
     "output_type": "execute_result"
    }
   ],
   "source": [
    "df1.sample(4)"
   ]
  },
  {
   "cell_type": "code",
   "execution_count": 78,
   "id": "e0c4979a-2fb6-417f-9278-a7ad4d1b1a3a",
   "metadata": {
    "id": "e0c4979a-2fb6-417f-9278-a7ad4d1b1a3a"
   },
   "outputs": [],
   "source": [
    "X = df1.drop('Depression', axis=1)\n",
    "y = df1['Depression']"
   ]
  },
  {
   "cell_type": "code",
   "execution_count": 207,
   "id": "243de099-3d24-4250-8107-a666db6e3d3e",
   "metadata": {
    "colab": {
     "base_uri": "https://localhost:8080/"
    },
    "id": "243de099-3d24-4250-8107-a666db6e3d3e",
    "outputId": "2ce3c032-0d7d-4a63-c1fd-3ca00136f249"
   },
   "outputs": [],
   "source": [
    "scaler = StandardScaler()\n"
   ]
  },
  {
   "cell_type": "code",
   "execution_count": 80,
   "id": "p0HkO4xMw_BX",
   "metadata": {
    "colab": {
     "base_uri": "https://localhost:8080/"
    },
    "id": "p0HkO4xMw_BX",
    "outputId": "c901e962-c535-46ec-c3f3-6583db586195"
   },
   "outputs": [
    {
     "name": "stdout",
     "output_type": "stream",
     "text": [
      "Accuracy: 0.9412\n",
      "F1 Score: 0.8368\n"
     ]
    }
   ],
   "source": [
    "from sklearn.model_selection import train_test_split\n",
    "from sklearn.metrics import accuracy_score, f1_score\n",
    "import xgboost as xgb\n",
    "\n",
    "X_train, X_test, y_train, y_test = train_test_split(X, y, test_size=0.2, random_state=42)\n",
    "\n",
    "model = xgb.XGBClassifier(\n",
    "    objective='binary:logistic',\n",
    "    booster='gbtree',\n",
    "    learning_rate=0.1,\n",
    "    n_estimators=1000,\n",
    "    max_depth=3,\n",
    "    min_child_weight=1,\n",
    "    gamma=0,\n",
    "    subsample=0.7,\n",
    "    colsample_bytree=0.7,\n",
    "    reg_alpha=0,\n",
    "    reg_lambda=1,\n",
    "    random_state=42,\n",
    "    use_label_encoder=False,\n",
    "    eval_metric='logloss'\n",
    ")\n",
    "\n",
    "model.fit(X_train, y_train)\n",
    "\n",
    "y_pred = model.predict(X_test)\n",
    "\n",
    "accuracy = accuracy_score(y_test, y_pred)\n",
    "f1 = f1_score(y_test, y_pred)\n",
    "\n",
    "print(f'Accuracy: {accuracy:.4f}')\n",
    "print(f'F1 Score: {f1:.4f}')\n"
   ]
  },
  {
   "cell_type": "code",
   "execution_count": 209,
   "id": "uelP68JVyEKJ",
   "metadata": {
    "id": "uelP68JVyEKJ"
   },
   "outputs": [
    {
     "data": {
      "text/plain": [
       "(112328, 17)"
      ]
     },
     "execution_count": 209,
     "metadata": {},
     "output_type": "execute_result"
    }
   ],
   "source": [
    "X_train.shape"
   ]
  },
  {
   "cell_type": "code",
   "execution_count": 210,
   "id": "a47e0f40-6b88-445e-a961-258534858e4e",
   "metadata": {},
   "outputs": [
    {
     "data": {
      "text/plain": [
       "(28083, 17)"
      ]
     },
     "execution_count": 210,
     "metadata": {},
     "output_type": "execute_result"
    }
   ],
   "source": [
    "X_test.shape"
   ]
  },
  {
   "cell_type": "code",
   "execution_count": 211,
   "id": "0f1ebe18-6934-40ef-90af-015fa05d6c52",
   "metadata": {},
   "outputs": [],
   "source": [
    "df.to_csv(\"final_99999.csv\")"
   ]
  },
  {
   "cell_type": "code",
   "execution_count": 81,
   "id": "ce7e6e96-d5bf-45fa-ad4f-2624db87bf1a",
   "metadata": {},
   "outputs": [],
   "source": [
    "df1.to_csv(\"final_null.csv\")"
   ]
  },
  {
   "cell_type": "code",
   "execution_count": 213,
   "id": "cfd257b3-62f5-44ca-ba17-092c00e9ba4f",
   "metadata": {},
   "outputs": [
    {
     "data": {
      "text/plain": [
       "(140411, 18)"
      ]
     },
     "execution_count": 213,
     "metadata": {},
     "output_type": "execute_result"
    }
   ],
   "source": [
    "df.shape"
   ]
  },
  {
   "cell_type": "code",
   "execution_count": 214,
   "id": "c2991d62-541b-4e95-a139-426ad861b160",
   "metadata": {},
   "outputs": [
    {
     "data": {
      "text/plain": [
       "(140411, 18)"
      ]
     },
     "execution_count": 214,
     "metadata": {},
     "output_type": "execute_result"
    }
   ],
   "source": [
    "df1.shape"
   ]
  },
  {
   "cell_type": "code",
   "execution_count": 83,
   "id": "0b3c7a38-fd70-42c0-aec1-59b23b54a448",
   "metadata": {},
   "outputs": [
    {
     "data": {
      "text/html": [
       "<div>\n",
       "<style scoped>\n",
       "    .dataframe tbody tr th:only-of-type {\n",
       "        vertical-align: middle;\n",
       "    }\n",
       "\n",
       "    .dataframe tbody tr th {\n",
       "        vertical-align: top;\n",
       "    }\n",
       "\n",
       "    .dataframe thead th {\n",
       "        text-align: right;\n",
       "    }\n",
       "</style>\n",
       "<table border=\"1\" class=\"dataframe\">\n",
       "  <thead>\n",
       "    <tr style=\"text-align: right;\">\n",
       "      <th></th>\n",
       "      <th>Gender</th>\n",
       "      <th>Age</th>\n",
       "      <th>City</th>\n",
       "      <th>Working Professional or Student</th>\n",
       "      <th>Profession</th>\n",
       "      <th>Academic Pressure</th>\n",
       "      <th>Work Pressure</th>\n",
       "      <th>CGPA</th>\n",
       "      <th>Study Satisfaction</th>\n",
       "      <th>Job Satisfaction</th>\n",
       "      <th>Sleep Duration</th>\n",
       "      <th>Dietary Habits</th>\n",
       "      <th>Degree</th>\n",
       "      <th>Have you ever had suicidal thoughts ?</th>\n",
       "      <th>Work/Study Hours</th>\n",
       "      <th>Financial Stress</th>\n",
       "      <th>Family History of Mental Illness</th>\n",
       "      <th>Depression</th>\n",
       "    </tr>\n",
       "  </thead>\n",
       "  <tbody>\n",
       "    <tr>\n",
       "      <th>33344</th>\n",
       "      <td>1</td>\n",
       "      <td>30.0</td>\n",
       "      <td>15</td>\n",
       "      <td>0</td>\n",
       "      <td>1</td>\n",
       "      <td>5.0</td>\n",
       "      <td>NaN</td>\n",
       "      <td>5.37</td>\n",
       "      <td>1.0</td>\n",
       "      <td>NaN</td>\n",
       "      <td>1</td>\n",
       "      <td>1</td>\n",
       "      <td>15</td>\n",
       "      <td>1</td>\n",
       "      <td>12.0</td>\n",
       "      <td>4.0</td>\n",
       "      <td>0</td>\n",
       "      <td>1</td>\n",
       "    </tr>\n",
       "    <tr>\n",
       "      <th>48055</th>\n",
       "      <td>0</td>\n",
       "      <td>36.0</td>\n",
       "      <td>13</td>\n",
       "      <td>1</td>\n",
       "      <td>30</td>\n",
       "      <td>NaN</td>\n",
       "      <td>5.0</td>\n",
       "      <td>NaN</td>\n",
       "      <td>NaN</td>\n",
       "      <td>5.0</td>\n",
       "      <td>1</td>\n",
       "      <td>1</td>\n",
       "      <td>6</td>\n",
       "      <td>0</td>\n",
       "      <td>1.0</td>\n",
       "      <td>2.0</td>\n",
       "      <td>1</td>\n",
       "      <td>0</td>\n",
       "    </tr>\n",
       "    <tr>\n",
       "      <th>90581</th>\n",
       "      <td>1</td>\n",
       "      <td>37.0</td>\n",
       "      <td>1</td>\n",
       "      <td>1</td>\n",
       "      <td>2</td>\n",
       "      <td>NaN</td>\n",
       "      <td>3.0</td>\n",
       "      <td>NaN</td>\n",
       "      <td>NaN</td>\n",
       "      <td>3.0</td>\n",
       "      <td>3</td>\n",
       "      <td>2</td>\n",
       "      <td>3</td>\n",
       "      <td>0</td>\n",
       "      <td>3.0</td>\n",
       "      <td>5.0</td>\n",
       "      <td>0</td>\n",
       "      <td>0</td>\n",
       "    </tr>\n",
       "    <tr>\n",
       "      <th>71047</th>\n",
       "      <td>1</td>\n",
       "      <td>57.0</td>\n",
       "      <td>19</td>\n",
       "      <td>1</td>\n",
       "      <td>3</td>\n",
       "      <td>NaN</td>\n",
       "      <td>1.0</td>\n",
       "      <td>NaN</td>\n",
       "      <td>NaN</td>\n",
       "      <td>1.0</td>\n",
       "      <td>4</td>\n",
       "      <td>3</td>\n",
       "      <td>1</td>\n",
       "      <td>0</td>\n",
       "      <td>4.0</td>\n",
       "      <td>3.0</td>\n",
       "      <td>1</td>\n",
       "      <td>0</td>\n",
       "    </tr>\n",
       "    <tr>\n",
       "      <th>69117</th>\n",
       "      <td>1</td>\n",
       "      <td>23.0</td>\n",
       "      <td>14</td>\n",
       "      <td>0</td>\n",
       "      <td>1</td>\n",
       "      <td>1.0</td>\n",
       "      <td>NaN</td>\n",
       "      <td>7.03</td>\n",
       "      <td>1.0</td>\n",
       "      <td>NaN</td>\n",
       "      <td>4</td>\n",
       "      <td>3</td>\n",
       "      <td>18</td>\n",
       "      <td>0</td>\n",
       "      <td>8.0</td>\n",
       "      <td>3.0</td>\n",
       "      <td>1</td>\n",
       "      <td>0</td>\n",
       "    </tr>\n",
       "  </tbody>\n",
       "</table>\n",
       "</div>"
      ],
      "text/plain": [
       "       Gender   Age  City  Working Professional or Student  Profession  \\\n",
       "33344       1  30.0    15                                0           1   \n",
       "48055       0  36.0    13                                1          30   \n",
       "90581       1  37.0     1                                1           2   \n",
       "71047       1  57.0    19                                1           3   \n",
       "69117       1  23.0    14                                0           1   \n",
       "\n",
       "       Academic Pressure  Work Pressure  CGPA  Study Satisfaction  \\\n",
       "33344                5.0            NaN  5.37                 1.0   \n",
       "48055                NaN            5.0   NaN                 NaN   \n",
       "90581                NaN            3.0   NaN                 NaN   \n",
       "71047                NaN            1.0   NaN                 NaN   \n",
       "69117                1.0            NaN  7.03                 1.0   \n",
       "\n",
       "       Job Satisfaction  Sleep Duration  Dietary Habits  Degree  \\\n",
       "33344               NaN               1               1      15   \n",
       "48055               5.0               1               1       6   \n",
       "90581               3.0               3               2       3   \n",
       "71047               1.0               4               3       1   \n",
       "69117               NaN               4               3      18   \n",
       "\n",
       "       Have you ever had suicidal thoughts ?  Work/Study Hours  \\\n",
       "33344                                      1              12.0   \n",
       "48055                                      0               1.0   \n",
       "90581                                      0               3.0   \n",
       "71047                                      0               4.0   \n",
       "69117                                      0               8.0   \n",
       "\n",
       "       Financial Stress  Family History of Mental Illness  Depression  \n",
       "33344               4.0                                 0           1  \n",
       "48055               2.0                                 1           0  \n",
       "90581               5.0                                 0           0  \n",
       "71047               3.0                                 1           0  \n",
       "69117               3.0                                 1           0  "
      ]
     },
     "execution_count": 83,
     "metadata": {},
     "output_type": "execute_result"
    }
   ],
   "source": [
    "df1.sample(5)"
   ]
  },
  {
   "cell_type": "code",
   "execution_count": 84,
   "id": "d8e98a6d-ae33-4ad6-8102-d136a4b20fdc",
   "metadata": {},
   "outputs": [],
   "source": [
    "df_student = df1[df1['Working Professional or Student'] == 0]"
   ]
  },
  {
   "cell_type": "code",
   "execution_count": 87,
   "id": "0a3b5121-9e8b-446c-b269-0f4827670e77",
   "metadata": {},
   "outputs": [],
   "source": [
    "df_student = df_student.drop(columns= ['Work Pressure','Job Satisfaction' , 'Profession'])"
   ]
  },
  {
   "cell_type": "code",
   "execution_count": 93,
   "id": "5b3f857c-b495-44cd-bee6-88eab4f0f033",
   "metadata": {},
   "outputs": [
    {
     "name": "stdout",
     "output_type": "stream",
     "text": [
      "<class 'pandas.core.frame.DataFrame'>\n",
      "Index: 27811 entries, 2 to 140699\n",
      "Data columns (total 14 columns):\n",
      " #   Column                                 Non-Null Count  Dtype  \n",
      "---  ------                                 --------------  -----  \n",
      " 0   Gender                                 27811 non-null  int64  \n",
      " 1   Age                                    27811 non-null  float64\n",
      " 2   City                                   27811 non-null  int64  \n",
      " 3   Academic Pressure                      27811 non-null  float64\n",
      " 4   CGPA                                   27811 non-null  float64\n",
      " 5   Study Satisfaction                     27811 non-null  float64\n",
      " 6   Sleep Duration                         27811 non-null  int64  \n",
      " 7   Dietary Habits                         27811 non-null  int64  \n",
      " 8   Degree                                 27811 non-null  int64  \n",
      " 9   Have you ever had suicidal thoughts ?  27811 non-null  int64  \n",
      " 10  Work/Study Hours                       27811 non-null  float64\n",
      " 11  Financial Stress                       27811 non-null  float64\n",
      " 12  Family History of Mental Illness       27811 non-null  int64  \n",
      " 13  Depression                             27811 non-null  int64  \n",
      "dtypes: float64(6), int64(8)\n",
      "memory usage: 3.2 MB\n"
     ]
    }
   ],
   "source": [
    "df_student.info()"
   ]
  },
  {
   "cell_type": "code",
   "execution_count": 89,
   "id": "26a15781-10fb-4861-9e35-0856b6ab4a75",
   "metadata": {},
   "outputs": [],
   "source": [
    "df_professional = df1[df1['Working Professional or Student'] == 1].drop(columns = ['Academic Pressure','CGPA' , 'Study Satisfaction'])"
   ]
  },
  {
   "cell_type": "code",
   "execution_count": 92,
   "id": "5b8543f3-707f-477f-8a66-86a41e5f7cac",
   "metadata": {},
   "outputs": [
    {
     "name": "stdout",
     "output_type": "stream",
     "text": [
      "<class 'pandas.core.frame.DataFrame'>\n",
      "Index: 112600 entries, 0 to 140698\n",
      "Data columns (total 14 columns):\n",
      " #   Column                                 Non-Null Count   Dtype  \n",
      "---  ------                                 --------------   -----  \n",
      " 0   Gender                                 112600 non-null  int64  \n",
      " 1   Age                                    112600 non-null  float64\n",
      " 2   City                                   112600 non-null  int64  \n",
      " 3   Profession                             112600 non-null  int64  \n",
      " 4   Work Pressure                          112600 non-null  float64\n",
      " 5   Job Satisfaction                       112600 non-null  float64\n",
      " 6   Sleep Duration                         112600 non-null  int64  \n",
      " 7   Dietary Habits                         112600 non-null  int64  \n",
      " 8   Degree                                 112600 non-null  int64  \n",
      " 9   Have you ever had suicidal thoughts ?  112600 non-null  int64  \n",
      " 10  Work/Study Hours                       112600 non-null  float64\n",
      " 11  Financial Stress                       112600 non-null  float64\n",
      " 12  Family History of Mental Illness       112600 non-null  int64  \n",
      " 13  Depression                             112600 non-null  int64  \n",
      "dtypes: float64(5), int64(9)\n",
      "memory usage: 12.9 MB\n"
     ]
    }
   ],
   "source": [
    "df_professional.info()"
   ]
  },
  {
   "cell_type": "code",
   "execution_count": 91,
   "id": "dc31b04e-2323-4a70-9dd8-9b570576e202",
   "metadata": {},
   "outputs": [],
   "source": [
    "df_professional = df_professional.drop(columns=['Working Professional or Student'])\n",
    "df_student = df_student.drop(columns=['Working Professional or Student'])"
   ]
  },
  {
   "cell_type": "code",
   "execution_count": 94,
   "id": "8b949cac-9d1e-48aa-ab1b-3b655f59a286",
   "metadata": {},
   "outputs": [
    {
     "data": {
      "text/plain": [
       "0"
      ]
     },
     "execution_count": 94,
     "metadata": {},
     "output_type": "execute_result"
    }
   ],
   "source": [
    "df_student.duplicated().sum()"
   ]
  },
  {
   "cell_type": "code",
   "execution_count": 95,
   "id": "27df4748-8aa8-4628-8aa3-057c5c0dab85",
   "metadata": {},
   "outputs": [
    {
     "data": {
      "text/plain": [
       "5"
      ]
     },
     "execution_count": 95,
     "metadata": {},
     "output_type": "execute_result"
    }
   ],
   "source": [
    "df_professional.duplicated().sum()"
   ]
  },
  {
   "cell_type": "code",
   "execution_count": 96,
   "id": "f3f76151-2a66-451b-93fc-7207612b230a",
   "metadata": {},
   "outputs": [],
   "source": [
    "df_professional.drop_duplicates(inplace=True)"
   ]
  },
  {
   "cell_type": "code",
   "execution_count": 97,
   "id": "19fe9ae0-733c-4519-a556-81941055c580",
   "metadata": {},
   "outputs": [],
   "source": [
    "df_student.to_csv(\"student_mental.csv\")\n",
    "df_professional.to_csv(\"professional_mental.csv\")"
   ]
  },
  {
   "cell_type": "code",
   "execution_count": null,
   "id": "eff6fecf-441f-4810-bd61-d4f681c23aee",
   "metadata": {},
   "outputs": [],
   "source": []
  }
 ],
 "metadata": {
  "colab": {
   "provenance": []
  },
  "kernelspec": {
   "display_name": "Python 3 (ipykernel)",
   "language": "python",
   "name": "python3"
  },
  "language_info": {
   "codemirror_mode": {
    "name": "ipython",
    "version": 3
   },
   "file_extension": ".py",
   "mimetype": "text/x-python",
   "name": "python",
   "nbconvert_exporter": "python",
   "pygments_lexer": "ipython3",
   "version": "3.11.4"
  }
 },
 "nbformat": 4,
 "nbformat_minor": 5
}
